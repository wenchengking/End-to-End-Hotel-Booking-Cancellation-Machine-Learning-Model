{
 "cells": [
  {
   "cell_type": "markdown",
   "id": "7354350c",
   "metadata": {},
   "source": [
    "# MSiA 420 - Predictive Analytics II - Final Project\n",
    "## Group 3: Alejandra Lelo de Larrea Ibarra, Kiran Jyothi Sheena, Lixuan (Ellen) Chen, Wencheng Zhang\n",
    "\n",
    "# EDA vars 17-24"
   ]
  },
  {
   "cell_type": "code",
   "execution_count": 168,
   "id": "ad059ff1-a8e3-4e76-9602-7d866167bdb3",
   "metadata": {},
   "outputs": [],
   "source": [
    "# Libraries\n",
    "import numpy as np\n",
    "import pandas as pd\n",
    "import matplotlib.pyplot as plt\n",
    "from matplotlib.ticker import MaxNLocator\n",
    "import seaborn as sns"
   ]
  },
  {
   "cell_type": "code",
   "execution_count": 169,
   "id": "aa5522de-9d4a-424f-93a5-7205a4783c3f",
   "metadata": {},
   "outputs": [
    {
     "name": "stdout",
     "output_type": "stream",
     "text": [
      "Dimensions: (119390, 32)\n"
     ]
    },
    {
     "data": {
      "text/html": [
       "<div>\n",
       "<style scoped>\n",
       "    .dataframe tbody tr th:only-of-type {\n",
       "        vertical-align: middle;\n",
       "    }\n",
       "\n",
       "    .dataframe tbody tr th {\n",
       "        vertical-align: top;\n",
       "    }\n",
       "\n",
       "    .dataframe thead th {\n",
       "        text-align: right;\n",
       "    }\n",
       "</style>\n",
       "<table border=\"1\" class=\"dataframe\">\n",
       "  <thead>\n",
       "    <tr style=\"text-align: right;\">\n",
       "      <th></th>\n",
       "      <th>hotel</th>\n",
       "      <th>is_canceled</th>\n",
       "      <th>lead_time</th>\n",
       "      <th>arrival_date_year</th>\n",
       "      <th>arrival_date_month</th>\n",
       "      <th>arrival_date_week_number</th>\n",
       "      <th>arrival_date_day_of_month</th>\n",
       "      <th>stays_in_weekend_nights</th>\n",
       "      <th>stays_in_week_nights</th>\n",
       "      <th>adults</th>\n",
       "      <th>...</th>\n",
       "      <th>deposit_type</th>\n",
       "      <th>agent</th>\n",
       "      <th>company</th>\n",
       "      <th>days_in_waiting_list</th>\n",
       "      <th>customer_type</th>\n",
       "      <th>adr</th>\n",
       "      <th>required_car_parking_spaces</th>\n",
       "      <th>total_of_special_requests</th>\n",
       "      <th>reservation_status</th>\n",
       "      <th>reservation_status_date</th>\n",
       "    </tr>\n",
       "  </thead>\n",
       "  <tbody>\n",
       "    <tr>\n",
       "      <th>0</th>\n",
       "      <td>Resort Hotel</td>\n",
       "      <td>0</td>\n",
       "      <td>342</td>\n",
       "      <td>2015</td>\n",
       "      <td>July</td>\n",
       "      <td>27</td>\n",
       "      <td>1</td>\n",
       "      <td>0</td>\n",
       "      <td>0</td>\n",
       "      <td>2</td>\n",
       "      <td>...</td>\n",
       "      <td>No Deposit</td>\n",
       "      <td>NaN</td>\n",
       "      <td>NaN</td>\n",
       "      <td>0</td>\n",
       "      <td>Transient</td>\n",
       "      <td>0.0</td>\n",
       "      <td>0</td>\n",
       "      <td>0</td>\n",
       "      <td>Check-Out</td>\n",
       "      <td>2015-07-01</td>\n",
       "    </tr>\n",
       "    <tr>\n",
       "      <th>1</th>\n",
       "      <td>Resort Hotel</td>\n",
       "      <td>0</td>\n",
       "      <td>737</td>\n",
       "      <td>2015</td>\n",
       "      <td>July</td>\n",
       "      <td>27</td>\n",
       "      <td>1</td>\n",
       "      <td>0</td>\n",
       "      <td>0</td>\n",
       "      <td>2</td>\n",
       "      <td>...</td>\n",
       "      <td>No Deposit</td>\n",
       "      <td>NaN</td>\n",
       "      <td>NaN</td>\n",
       "      <td>0</td>\n",
       "      <td>Transient</td>\n",
       "      <td>0.0</td>\n",
       "      <td>0</td>\n",
       "      <td>0</td>\n",
       "      <td>Check-Out</td>\n",
       "      <td>2015-07-01</td>\n",
       "    </tr>\n",
       "    <tr>\n",
       "      <th>2</th>\n",
       "      <td>Resort Hotel</td>\n",
       "      <td>0</td>\n",
       "      <td>7</td>\n",
       "      <td>2015</td>\n",
       "      <td>July</td>\n",
       "      <td>27</td>\n",
       "      <td>1</td>\n",
       "      <td>0</td>\n",
       "      <td>1</td>\n",
       "      <td>1</td>\n",
       "      <td>...</td>\n",
       "      <td>No Deposit</td>\n",
       "      <td>NaN</td>\n",
       "      <td>NaN</td>\n",
       "      <td>0</td>\n",
       "      <td>Transient</td>\n",
       "      <td>75.0</td>\n",
       "      <td>0</td>\n",
       "      <td>0</td>\n",
       "      <td>Check-Out</td>\n",
       "      <td>2015-07-02</td>\n",
       "    </tr>\n",
       "    <tr>\n",
       "      <th>3</th>\n",
       "      <td>Resort Hotel</td>\n",
       "      <td>0</td>\n",
       "      <td>13</td>\n",
       "      <td>2015</td>\n",
       "      <td>July</td>\n",
       "      <td>27</td>\n",
       "      <td>1</td>\n",
       "      <td>0</td>\n",
       "      <td>1</td>\n",
       "      <td>1</td>\n",
       "      <td>...</td>\n",
       "      <td>No Deposit</td>\n",
       "      <td>304.0</td>\n",
       "      <td>NaN</td>\n",
       "      <td>0</td>\n",
       "      <td>Transient</td>\n",
       "      <td>75.0</td>\n",
       "      <td>0</td>\n",
       "      <td>0</td>\n",
       "      <td>Check-Out</td>\n",
       "      <td>2015-07-02</td>\n",
       "    </tr>\n",
       "    <tr>\n",
       "      <th>4</th>\n",
       "      <td>Resort Hotel</td>\n",
       "      <td>0</td>\n",
       "      <td>14</td>\n",
       "      <td>2015</td>\n",
       "      <td>July</td>\n",
       "      <td>27</td>\n",
       "      <td>1</td>\n",
       "      <td>0</td>\n",
       "      <td>2</td>\n",
       "      <td>2</td>\n",
       "      <td>...</td>\n",
       "      <td>No Deposit</td>\n",
       "      <td>240.0</td>\n",
       "      <td>NaN</td>\n",
       "      <td>0</td>\n",
       "      <td>Transient</td>\n",
       "      <td>98.0</td>\n",
       "      <td>0</td>\n",
       "      <td>1</td>\n",
       "      <td>Check-Out</td>\n",
       "      <td>2015-07-03</td>\n",
       "    </tr>\n",
       "  </tbody>\n",
       "</table>\n",
       "<p>5 rows × 32 columns</p>\n",
       "</div>"
      ],
      "text/plain": [
       "          hotel  is_canceled  lead_time  arrival_date_year arrival_date_month  \\\n",
       "0  Resort Hotel            0        342               2015               July   \n",
       "1  Resort Hotel            0        737               2015               July   \n",
       "2  Resort Hotel            0          7               2015               July   \n",
       "3  Resort Hotel            0         13               2015               July   \n",
       "4  Resort Hotel            0         14               2015               July   \n",
       "\n",
       "   arrival_date_week_number  arrival_date_day_of_month  \\\n",
       "0                        27                          1   \n",
       "1                        27                          1   \n",
       "2                        27                          1   \n",
       "3                        27                          1   \n",
       "4                        27                          1   \n",
       "\n",
       "   stays_in_weekend_nights  stays_in_week_nights  adults  ...  deposit_type  \\\n",
       "0                        0                     0       2  ...    No Deposit   \n",
       "1                        0                     0       2  ...    No Deposit   \n",
       "2                        0                     1       1  ...    No Deposit   \n",
       "3                        0                     1       1  ...    No Deposit   \n",
       "4                        0                     2       2  ...    No Deposit   \n",
       "\n",
       "   agent company days_in_waiting_list customer_type   adr  \\\n",
       "0    NaN     NaN                    0     Transient   0.0   \n",
       "1    NaN     NaN                    0     Transient   0.0   \n",
       "2    NaN     NaN                    0     Transient  75.0   \n",
       "3  304.0     NaN                    0     Transient  75.0   \n",
       "4  240.0     NaN                    0     Transient  98.0   \n",
       "\n",
       "   required_car_parking_spaces  total_of_special_requests  reservation_status  \\\n",
       "0                            0                          0           Check-Out   \n",
       "1                            0                          0           Check-Out   \n",
       "2                            0                          0           Check-Out   \n",
       "3                            0                          0           Check-Out   \n",
       "4                            0                          1           Check-Out   \n",
       "\n",
       "  reservation_status_date  \n",
       "0              2015-07-01  \n",
       "1              2015-07-01  \n",
       "2              2015-07-02  \n",
       "3              2015-07-02  \n",
       "4              2015-07-03  \n",
       "\n",
       "[5 rows x 32 columns]"
      ]
     },
     "execution_count": 169,
     "metadata": {},
     "output_type": "execute_result"
    }
   ],
   "source": [
    "data = pd.read_csv(\"hotel_bookings.csv\")\n",
    "\n",
    "# Read data \n",
    "data = pd.read_csv(\"hotel_bookings.csv\")\n",
    "\n",
    "# Dimensions \n",
    "print(\"Dimensions: \" + str(data.shape))\n",
    "\n",
    "# Print header \n",
    "data.head()"
   ]
  },
  {
   "cell_type": "markdown",
   "id": "24699979-d457-4054-8064-97ef1f0fef81",
   "metadata": {},
   "source": [
    "# Individual Effects"
   ]
  },
  {
   "cell_type": "markdown",
   "id": "2bf27c40-ef59-43b5-9b8f-ce4aec50e3b1",
   "metadata": {},
   "source": [
    "### is_repeated_guest (strong)"
   ]
  },
  {
   "cell_type": "code",
   "execution_count": 170,
   "id": "4e967d6c-d923-4fad-ac55-8a67cd859295",
   "metadata": {},
   "outputs": [
    {
     "name": "stdout",
     "output_type": "stream",
     "text": [
      "The number of missing values in is_repeated_guest:  0\n"
     ]
    }
   ],
   "source": [
    "print(\"The number of missing values in is_repeated_guest: \", data['is_repeated_guest'].isnull().sum())"
   ]
  },
  {
   "cell_type": "code",
   "execution_count": 171,
   "id": "83013d47-59ba-41b3-b229-f5a048808db4",
   "metadata": {},
   "outputs": [
    {
     "data": {
      "text/plain": [
       "<AxesSubplot:title={'center':'how many unique values is_repeated_guest has'}>"
      ]
     },
     "execution_count": 171,
     "metadata": {},
     "output_type": "execute_result"
    },
    {
     "data": {
      "image/png": "[encoded data removed]",
      "text/plain": [
       "<Figure size 432x288 with 1 Axes>"
      ]
     },
     "metadata": {
      "needs_background": "light"
     },
     "output_type": "display_data"
    }
   ],
   "source": [
    "data['is_repeated_guest'].value_counts().plot(kind='bar', title='how many unique values is_repeated_guest has')"
   ]
  },
  {
   "cell_type": "markdown",
   "id": "8c127138-791c-49ce-bd21-8c491486c6cf",
   "metadata": {},
   "source": [
    "most of the booking names is not repeated guest (0). Only some of them are repeated customers (1). <br>\n",
    "I assume that repeated customer are less likely to cancel"
   ]
  },
  {
   "cell_type": "code",
   "execution_count": 172,
   "id": "81e80f34-79f9-474f-80b2-85b6dabd2368",
   "metadata": {},
   "outputs": [
    {
     "data": {
      "text/html": [
       "<div>\n",
       "<style scoped>\n",
       "    .dataframe tbody tr th:only-of-type {\n",
       "        vertical-align: middle;\n",
       "    }\n",
       "\n",
       "    .dataframe tbody tr th {\n",
       "        vertical-align: top;\n",
       "    }\n",
       "\n",
       "    .dataframe thead th {\n",
       "        text-align: right;\n",
       "    }\n",
       "</style>\n",
       "<table border=\"1\" class=\"dataframe\">\n",
       "  <thead>\n",
       "    <tr style=\"text-align: right;\">\n",
       "      <th>is_repeated_guest</th>\n",
       "      <th>0</th>\n",
       "      <th>1</th>\n",
       "    </tr>\n",
       "    <tr>\n",
       "      <th>is_canceled</th>\n",
       "      <th></th>\n",
       "      <th></th>\n",
       "    </tr>\n",
       "  </thead>\n",
       "  <tbody>\n",
       "    <tr>\n",
       "      <th>0</th>\n",
       "      <td>71908</td>\n",
       "      <td>3258</td>\n",
       "    </tr>\n",
       "    <tr>\n",
       "      <th>1</th>\n",
       "      <td>43672</td>\n",
       "      <td>552</td>\n",
       "    </tr>\n",
       "  </tbody>\n",
       "</table>\n",
       "</div>"
      ],
      "text/plain": [
       "is_repeated_guest      0     1\n",
       "is_canceled                   \n",
       "0                  71908  3258\n",
       "1                  43672   552"
      ]
     },
     "execution_count": 172,
     "metadata": {},
     "output_type": "execute_result"
    }
   ],
   "source": [
    "pd.crosstab(index=data['is_canceled'],columns=data['is_repeated_guest'])"
   ]
  },
  {
   "cell_type": "markdown",
   "id": "00db8040-fad6-450a-a091-8d704988f231",
   "metadata": {},
   "source": [
    "### previous_cancellations (strong)"
   ]
  },
  {
   "cell_type": "code",
   "execution_count": 173,
   "id": "82b297bc-b4e0-4945-b8f9-096bf9045539",
   "metadata": {},
   "outputs": [
    {
     "name": "stdout",
     "output_type": "stream",
     "text": [
      "The number of missing values in previous_cancellations:  0\n"
     ]
    }
   ],
   "source": [
    "print(\"The number of missing values in previous_cancellations: \", data['previous_cancellations'].isnull().sum())"
   ]
  },
  {
   "cell_type": "code",
   "execution_count": 174,
   "id": "24069ba6-5739-46dc-871d-365a880b0882",
   "metadata": {},
   "outputs": [
    {
     "data": {
      "text/plain": [
       "count    119390.000000\n",
       "mean          0.087118\n",
       "std           0.844336\n",
       "min           0.000000\n",
       "25%           0.000000\n",
       "50%           0.000000\n",
       "75%           0.000000\n",
       "max          26.000000\n",
       "Name: previous_cancellations, dtype: float64"
      ]
     },
     "execution_count": 174,
     "metadata": {},
     "output_type": "execute_result"
    }
   ],
   "source": [
    "data['previous_cancellations'].describe(include='all')"
   ]
  },
  {
   "cell_type": "code",
   "execution_count": 175,
   "id": "4ebe6776-2085-48b5-ac69-8366257bdece",
   "metadata": {},
   "outputs": [
    {
     "data": {
      "text/plain": [
       "0     112906\n",
       "1       6051\n",
       "2        116\n",
       "3         65\n",
       "24        48\n",
       "11        35\n",
       "4         31\n",
       "26        26\n",
       "25        25\n",
       "6         22\n",
       "19        19\n",
       "5         19\n",
       "14        14\n",
       "13        12\n",
       "21         1\n",
       "Name: previous_cancellations, dtype: int64"
      ]
     },
     "execution_count": 175,
     "metadata": {},
     "output_type": "execute_result"
    }
   ],
   "source": [
    "data['previous_cancellations'].value_counts()"
   ]
  },
  {
   "cell_type": "code",
   "execution_count": 176,
   "id": "246f3e93-c3d2-4048-abf4-d6f6245c44e6",
   "metadata": {},
   "outputs": [
    {
     "data": {
      "text/plain": [
       "<AxesSubplot:title={'center':'Distribution in previous_cancellations'}>"
      ]
     },
     "execution_count": 176,
     "metadata": {},
     "output_type": "execute_result"
    },
    {
     "data": {
      "image/png": "[encoded data removed]",
      "text/plain": [
       "<Figure size 432x288 with 1 Axes>"
      ]
     },
     "metadata": {
      "needs_background": "light"
     },
     "output_type": "display_data"
    }
   ],
   "source": [
    "np.log(data['previous_cancellations'].value_counts()).plot(kind='bar', title='Distribution in previous_cancellations')"
   ]
  },
  {
   "cell_type": "markdown",
   "id": "b33b20b0-69c5-4254-bbf6-9e358a4cc426",
   "metadata": {},
   "source": [
    "0: no customer profile associated with the bookings. However, there are some case where repeated customer has never cancelled a booking<br>\n",
    "1/2/3 are reasonable numbers because it is possible for a same customer to cancel multiple times.<br>\n",
    "However 15+ cancelled history may come from agents or group order. For example, there are 26 customers that cancelled 26 times before."
   ]
  },
  {
   "cell_type": "code",
   "execution_count": 177,
   "id": "9cba7888-aab6-4f5d-b8e0-76b6b120a745",
   "metadata": {},
   "outputs": [
    {
     "data": {
      "text/html": [
       "<div>\n",
       "<style scoped>\n",
       "    .dataframe tbody tr th:only-of-type {\n",
       "        vertical-align: middle;\n",
       "    }\n",
       "\n",
       "    .dataframe tbody tr th {\n",
       "        vertical-align: top;\n",
       "    }\n",
       "\n",
       "    .dataframe thead th {\n",
       "        text-align: right;\n",
       "    }\n",
       "</style>\n",
       "<table border=\"1\" class=\"dataframe\">\n",
       "  <thead>\n",
       "    <tr style=\"text-align: right;\">\n",
       "      <th>previous_cancellations</th>\n",
       "      <th>0</th>\n",
       "      <th>1</th>\n",
       "      <th>2</th>\n",
       "      <th>3</th>\n",
       "      <th>4</th>\n",
       "      <th>5</th>\n",
       "      <th>6</th>\n",
       "      <th>11</th>\n",
       "      <th>13</th>\n",
       "      <th>14</th>\n",
       "      <th>19</th>\n",
       "      <th>21</th>\n",
       "      <th>24</th>\n",
       "      <th>25</th>\n",
       "      <th>26</th>\n",
       "    </tr>\n",
       "    <tr>\n",
       "      <th>is_canceled</th>\n",
       "      <th></th>\n",
       "      <th></th>\n",
       "      <th></th>\n",
       "      <th></th>\n",
       "      <th></th>\n",
       "      <th></th>\n",
       "      <th></th>\n",
       "      <th></th>\n",
       "      <th></th>\n",
       "      <th></th>\n",
       "      <th></th>\n",
       "      <th></th>\n",
       "      <th></th>\n",
       "      <th></th>\n",
       "      <th></th>\n",
       "    </tr>\n",
       "  </thead>\n",
       "  <tbody>\n",
       "    <tr>\n",
       "      <th>0</th>\n",
       "      <td>74624</td>\n",
       "      <td>337</td>\n",
       "      <td>78</td>\n",
       "      <td>45</td>\n",
       "      <td>24</td>\n",
       "      <td>17</td>\n",
       "      <td>15</td>\n",
       "      <td>25</td>\n",
       "      <td>1</td>\n",
       "      <td>0</td>\n",
       "      <td>0</td>\n",
       "      <td>0</td>\n",
       "      <td>0</td>\n",
       "      <td>0</td>\n",
       "      <td>0</td>\n",
       "    </tr>\n",
       "    <tr>\n",
       "      <th>1</th>\n",
       "      <td>38282</td>\n",
       "      <td>5714</td>\n",
       "      <td>38</td>\n",
       "      <td>20</td>\n",
       "      <td>7</td>\n",
       "      <td>2</td>\n",
       "      <td>7</td>\n",
       "      <td>10</td>\n",
       "      <td>11</td>\n",
       "      <td>14</td>\n",
       "      <td>19</td>\n",
       "      <td>1</td>\n",
       "      <td>48</td>\n",
       "      <td>25</td>\n",
       "      <td>26</td>\n",
       "    </tr>\n",
       "  </tbody>\n",
       "</table>\n",
       "</div>"
      ],
      "text/plain": [
       "previous_cancellations     0     1   2   3   4   5   6   11  13  14  19  21  \\\n",
       "is_canceled                                                                   \n",
       "0                       74624   337  78  45  24  17  15  25   1   0   0   0   \n",
       "1                       38282  5714  38  20   7   2   7  10  11  14  19   1   \n",
       "\n",
       "previous_cancellations  24  25  26  \n",
       "is_canceled                         \n",
       "0                        0   0   0  \n",
       "1                       48  25  26  "
      ]
     },
     "execution_count": 177,
     "metadata": {},
     "output_type": "execute_result"
    }
   ],
   "source": [
    "pd.crosstab(index=data['is_canceled'],columns=data['previous_cancellations'])"
   ]
  },
  {
   "cell_type": "markdown",
   "id": "02689b97-2272-4721-a90e-bebb0dc2ebc1",
   "metadata": {},
   "source": [
    "### previous_bookings_not_canceled (Strong)"
   ]
  },
  {
   "cell_type": "code",
   "execution_count": 178,
   "id": "6747d507-70e6-4651-900c-cb965d66aea5",
   "metadata": {},
   "outputs": [
    {
     "name": "stdout",
     "output_type": "stream",
     "text": [
      "The number of missing values in previous_bookings_not_canceled:  0\n"
     ]
    }
   ],
   "source": [
    "print(\"The number of missing values in previous_bookings_not_canceled: \", data['previous_bookings_not_canceled'].isnull().sum())"
   ]
  },
  {
   "cell_type": "code",
   "execution_count": 179,
   "id": "f96aa9ab-aa9a-4d9d-b1d9-cca7a1a6268d",
   "metadata": {},
   "outputs": [
    {
     "data": {
      "text/plain": [
       "0     115770\n",
       "1       1542\n",
       "2        580\n",
       "3        333\n",
       "4        229\n",
       "       ...  \n",
       "47         1\n",
       "49         1\n",
       "50         1\n",
       "51         1\n",
       "72         1\n",
       "Name: previous_bookings_not_canceled, Length: 73, dtype: int64"
      ]
     },
     "execution_count": 179,
     "metadata": {},
     "output_type": "execute_result"
    }
   ],
   "source": [
    "data['previous_bookings_not_canceled'].value_counts()"
   ]
  },
  {
   "cell_type": "markdown",
   "id": "964a44ae-0e84-4ed2-83cb-b54d42b92a82",
   "metadata": {},
   "source": [
    "115770 has 0, which means that no customer profiles associated with this booking<br>\\\n",
    "However, it may also means that a repeated customer cancel all of booking before"
   ]
  },
  {
   "cell_type": "code",
   "execution_count": 180,
   "id": "b1ec2a78-3fee-4cab-87af-2a8bf725bc43",
   "metadata": {},
   "outputs": [
    {
     "data": {
      "text/plain": [
       "array([[1.        , 0.15272811],\n",
       "       [0.15272811, 1.        ]])"
      ]
     },
     "execution_count": 180,
     "metadata": {},
     "output_type": "execute_result"
    }
   ],
   "source": [
    "np.corrcoef(data['previous_bookings_not_canceled'],data['previous_cancellations'])"
   ]
  },
  {
   "cell_type": "markdown",
   "id": "f20ac9b6-3235-4d28-8591-90bf4c3fb02e",
   "metadata": {},
   "source": [
    "previous_bookings_not_canceled has a weak correlation with previous_cancellations. <br>\n",
    "We may need more thinking about these two variables"
   ]
  },
  {
   "cell_type": "code",
   "execution_count": 181,
   "id": "e12673bb-1395-4c11-85df-b93bf0e7d190",
   "metadata": {},
   "outputs": [
    {
     "data": {
      "text/plain": [
       "109933"
      ]
     },
     "execution_count": 181,
     "metadata": {},
     "output_type": "execute_result"
    }
   ],
   "source": [
    "len(data[(data['previous_cancellations']==0)&(data['previous_bookings_not_canceled']==0)])"
   ]
  },
  {
   "cell_type": "markdown",
   "id": "43495620-6d8c-491f-908a-07cd61d6c17d",
   "metadata": {},
   "source": [
    "There are 109933 that has zero previous_cancellations and zero previous_bookings_not_canceled, which are new customers<br>\n",
    "I suppose we could find a way to combine previous_bookings_not_canceled and previous_cancellations together"
   ]
  },
  {
   "cell_type": "code",
   "execution_count": 182,
   "id": "92d35c15-1895-4f62-bd9b-7f2deb2b1edd",
   "metadata": {},
   "outputs": [
    {
     "data": {
      "text/html": [
       "<div>\n",
       "<style scoped>\n",
       "    .dataframe tbody tr th:only-of-type {\n",
       "        vertical-align: middle;\n",
       "    }\n",
       "\n",
       "    .dataframe tbody tr th {\n",
       "        vertical-align: top;\n",
       "    }\n",
       "\n",
       "    .dataframe thead th {\n",
       "        text-align: right;\n",
       "    }\n",
       "</style>\n",
       "<table border=\"1\" class=\"dataframe\">\n",
       "  <thead>\n",
       "    <tr style=\"text-align: right;\">\n",
       "      <th>previous_bookings_not_canceled</th>\n",
       "      <th>0</th>\n",
       "      <th>1</th>\n",
       "      <th>2</th>\n",
       "      <th>3</th>\n",
       "      <th>4</th>\n",
       "      <th>5</th>\n",
       "      <th>6</th>\n",
       "      <th>7</th>\n",
       "      <th>8</th>\n",
       "      <th>9</th>\n",
       "      <th>...</th>\n",
       "      <th>63</th>\n",
       "      <th>64</th>\n",
       "      <th>65</th>\n",
       "      <th>66</th>\n",
       "      <th>67</th>\n",
       "      <th>68</th>\n",
       "      <th>69</th>\n",
       "      <th>70</th>\n",
       "      <th>71</th>\n",
       "      <th>72</th>\n",
       "    </tr>\n",
       "    <tr>\n",
       "      <th>is_canceled</th>\n",
       "      <th></th>\n",
       "      <th></th>\n",
       "      <th></th>\n",
       "      <th></th>\n",
       "      <th></th>\n",
       "      <th></th>\n",
       "      <th></th>\n",
       "      <th></th>\n",
       "      <th></th>\n",
       "      <th></th>\n",
       "      <th></th>\n",
       "      <th></th>\n",
       "      <th></th>\n",
       "      <th></th>\n",
       "      <th></th>\n",
       "      <th></th>\n",
       "      <th></th>\n",
       "      <th></th>\n",
       "      <th></th>\n",
       "      <th></th>\n",
       "      <th></th>\n",
       "    </tr>\n",
       "  </thead>\n",
       "  <tbody>\n",
       "    <tr>\n",
       "      <th>0</th>\n",
       "      <td>71746</td>\n",
       "      <td>1463</td>\n",
       "      <td>548</td>\n",
       "      <td>316</td>\n",
       "      <td>217</td>\n",
       "      <td>170</td>\n",
       "      <td>112</td>\n",
       "      <td>83</td>\n",
       "      <td>67</td>\n",
       "      <td>60</td>\n",
       "      <td>...</td>\n",
       "      <td>1</td>\n",
       "      <td>1</td>\n",
       "      <td>1</td>\n",
       "      <td>1</td>\n",
       "      <td>1</td>\n",
       "      <td>1</td>\n",
       "      <td>1</td>\n",
       "      <td>1</td>\n",
       "      <td>1</td>\n",
       "      <td>1</td>\n",
       "    </tr>\n",
       "    <tr>\n",
       "      <th>1</th>\n",
       "      <td>44024</td>\n",
       "      <td>79</td>\n",
       "      <td>32</td>\n",
       "      <td>17</td>\n",
       "      <td>12</td>\n",
       "      <td>11</td>\n",
       "      <td>3</td>\n",
       "      <td>5</td>\n",
       "      <td>3</td>\n",
       "      <td>0</td>\n",
       "      <td>...</td>\n",
       "      <td>0</td>\n",
       "      <td>0</td>\n",
       "      <td>0</td>\n",
       "      <td>0</td>\n",
       "      <td>0</td>\n",
       "      <td>0</td>\n",
       "      <td>0</td>\n",
       "      <td>0</td>\n",
       "      <td>0</td>\n",
       "      <td>0</td>\n",
       "    </tr>\n",
       "  </tbody>\n",
       "</table>\n",
       "<p>2 rows × 73 columns</p>\n",
       "</div>"
      ],
      "text/plain": [
       "previous_bookings_not_canceled     0     1    2    3    4    5    6   7   8   \\\n",
       "is_canceled                                                                    \n",
       "0                               71746  1463  548  316  217  170  112  83  67   \n",
       "1                               44024    79   32   17   12   11    3   5   3   \n",
       "\n",
       "previous_bookings_not_canceled  9   ...  63  64  65  66  67  68  69  70  71  \\\n",
       "is_canceled                         ...                                       \n",
       "0                               60  ...   1   1   1   1   1   1   1   1   1   \n",
       "1                                0  ...   0   0   0   0   0   0   0   0   0   \n",
       "\n",
       "previous_bookings_not_canceled  72  \n",
       "is_canceled                         \n",
       "0                                1  \n",
       "1                                0  \n",
       "\n",
       "[2 rows x 73 columns]"
      ]
     },
     "execution_count": 182,
     "metadata": {},
     "output_type": "execute_result"
    }
   ],
   "source": [
    "pd.crosstab(index=data['is_canceled'],columns=data['previous_bookings_not_canceled'])"
   ]
  },
  {
   "cell_type": "markdown",
   "id": "dbd47201-47cb-4859-b793-93437c90d500",
   "metadata": {},
   "source": [
    "### reserved_room_type (strong)"
   ]
  },
  {
   "cell_type": "code",
   "execution_count": 183,
   "id": "b6baa99d-04bb-4f52-b94f-33c384c6370d",
   "metadata": {},
   "outputs": [
    {
     "name": "stdout",
     "output_type": "stream",
     "text": [
      "The number of missing values in reserved_room_type:  0\n"
     ]
    }
   ],
   "source": [
    "print(\"The number of missing values in reserved_room_type: \", data['reserved_room_type'].isnull().sum())"
   ]
  },
  {
   "cell_type": "code",
   "execution_count": 184,
   "id": "5b9b7ecd-25c9-461c-8028-3d236ded5faf",
   "metadata": {},
   "outputs": [
    {
     "data": {
      "text/plain": [
       "A    85994\n",
       "D    19201\n",
       "E     6535\n",
       "F     2897\n",
       "G     2094\n",
       "B     1118\n",
       "C      932\n",
       "H      601\n",
       "P       12\n",
       "L        6\n",
       "Name: reserved_room_type, dtype: int64"
      ]
     },
     "execution_count": 184,
     "metadata": {},
     "output_type": "execute_result"
    }
   ],
   "source": [
    "data['reserved_room_type'].value_counts()"
   ]
  },
  {
   "cell_type": "code",
   "execution_count": 185,
   "id": "7c361e98-e90c-4323-8dfa-558410fb5680",
   "metadata": {},
   "outputs": [
    {
     "data": {
      "text/plain": [
       "<AxesSubplot:title={'center':'how many unique values reserved_room_type has'}>"
      ]
     },
     "execution_count": 185,
     "metadata": {},
     "output_type": "execute_result"
    },
    {
     "data": {
      "image/png": "[encoded data removed]",
      "text/plain": [
       "<Figure size 432x288 with 1 Axes>"
      ]
     },
     "metadata": {
      "needs_background": "light"
     },
     "output_type": "display_data"
    }
   ],
   "source": [
    "data['reserved_room_type'].value_counts().plot(kind='bar', title='how many unique values reserved_room_type has')"
   ]
  },
  {
   "cell_type": "markdown",
   "id": "b34404ce-a9ea-43fd-9e00-8dfb01bc3bad",
   "metadata": {},
   "source": [
    "Most of reserved room belongs to A.previous_bookings_not_canceled"
   ]
  },
  {
   "cell_type": "code",
   "execution_count": 186,
   "id": "77468e2c-ad7e-4810-af26-123c0f065a3d",
   "metadata": {},
   "outputs": [
    {
     "data": {
      "text/html": [
       "<div>\n",
       "<style scoped>\n",
       "    .dataframe tbody tr th:only-of-type {\n",
       "        vertical-align: middle;\n",
       "    }\n",
       "\n",
       "    .dataframe tbody tr th {\n",
       "        vertical-align: top;\n",
       "    }\n",
       "\n",
       "    .dataframe thead th {\n",
       "        text-align: right;\n",
       "    }\n",
       "</style>\n",
       "<table border=\"1\" class=\"dataframe\">\n",
       "  <thead>\n",
       "    <tr style=\"text-align: right;\">\n",
       "      <th>reserved_room_type</th>\n",
       "      <th>A</th>\n",
       "      <th>B</th>\n",
       "      <th>C</th>\n",
       "      <th>D</th>\n",
       "      <th>E</th>\n",
       "      <th>F</th>\n",
       "      <th>G</th>\n",
       "      <th>H</th>\n",
       "      <th>L</th>\n",
       "      <th>P</th>\n",
       "    </tr>\n",
       "    <tr>\n",
       "      <th>is_canceled</th>\n",
       "      <th></th>\n",
       "      <th></th>\n",
       "      <th></th>\n",
       "      <th></th>\n",
       "      <th></th>\n",
       "      <th></th>\n",
       "      <th></th>\n",
       "      <th></th>\n",
       "      <th></th>\n",
       "      <th></th>\n",
       "    </tr>\n",
       "  </thead>\n",
       "  <tbody>\n",
       "    <tr>\n",
       "      <th>0</th>\n",
       "      <td>52364</td>\n",
       "      <td>750</td>\n",
       "      <td>624</td>\n",
       "      <td>13099</td>\n",
       "      <td>4621</td>\n",
       "      <td>2017</td>\n",
       "      <td>1331</td>\n",
       "      <td>356</td>\n",
       "      <td>4</td>\n",
       "      <td>0</td>\n",
       "    </tr>\n",
       "    <tr>\n",
       "      <th>1</th>\n",
       "      <td>33630</td>\n",
       "      <td>368</td>\n",
       "      <td>308</td>\n",
       "      <td>6102</td>\n",
       "      <td>1914</td>\n",
       "      <td>880</td>\n",
       "      <td>763</td>\n",
       "      <td>245</td>\n",
       "      <td>2</td>\n",
       "      <td>12</td>\n",
       "    </tr>\n",
       "  </tbody>\n",
       "</table>\n",
       "</div>"
      ],
      "text/plain": [
       "reserved_room_type      A    B    C      D     E     F     G    H  L   P\n",
       "is_canceled                                                             \n",
       "0                   52364  750  624  13099  4621  2017  1331  356  4   0\n",
       "1                   33630  368  308   6102  1914   880   763  245  2  12"
      ]
     },
     "execution_count": 186,
     "metadata": {},
     "output_type": "execute_result"
    }
   ],
   "source": [
    "pd.crosstab(index=data['is_canceled'],columns=data['reserved_room_type'])"
   ]
  },
  {
   "cell_type": "markdown",
   "id": "db708da8-0c13-46a9-ae0e-68da3f25da9c",
   "metadata": {},
   "source": [
    "### assigned_room_type (strong)"
   ]
  },
  {
   "cell_type": "code",
   "execution_count": 187,
   "id": "334573e8-bc92-461a-b738-fe5953836045",
   "metadata": {},
   "outputs": [
    {
     "name": "stdout",
     "output_type": "stream",
     "text": [
      "The number of missing values in assigned_room_type:  0\n"
     ]
    }
   ],
   "source": [
    "print(\"The number of missing values in assigned_room_type: \", data['assigned_room_type'].isnull().sum())"
   ]
  },
  {
   "cell_type": "code",
   "execution_count": 188,
   "id": "e3de0c78-037d-4b91-9686-9e33ceb6ddd4",
   "metadata": {},
   "outputs": [
    {
     "data": {
      "text/plain": [
       "A    74053\n",
       "D    25322\n",
       "E     7806\n",
       "F     3751\n",
       "G     2553\n",
       "C     2375\n",
       "B     2163\n",
       "H      712\n",
       "I      363\n",
       "K      279\n",
       "P       12\n",
       "L        1\n",
       "Name: assigned_room_type, dtype: int64"
      ]
     },
     "execution_count": 188,
     "metadata": {},
     "output_type": "execute_result"
    }
   ],
   "source": [
    "data['assigned_room_type'].value_counts()"
   ]
  },
  {
   "cell_type": "code",
   "execution_count": 189,
   "id": "9befccad-5cdd-4644-8951-8a63c1fd76c9",
   "metadata": {},
   "outputs": [
    {
     "name": "stdout",
     "output_type": "stream",
     "text": [
      "reserved room = assigned room:  104473\n"
     ]
    }
   ],
   "source": [
    "print(\"reserved room = assigned room: \", len(data[(data['reserved_room_type'] == data['assigned_room_type'])]))"
   ]
  },
  {
   "cell_type": "code",
   "execution_count": 190,
   "id": "2f966616-96af-4b23-a5fc-a1b1b661417b",
   "metadata": {},
   "outputs": [
    {
     "name": "stdout",
     "output_type": "stream",
     "text": [
      "reserved room != assigned room:  14917\n"
     ]
    }
   ],
   "source": [
    "print(\"reserved room != assigned room: \", len(data[(data['reserved_room_type'] != data['assigned_room_type'])]))"
   ]
  },
  {
   "cell_type": "markdown",
   "id": "4901e5ab-ee2e-4349-b0fa-b3d1cafc13d4",
   "metadata": {},
   "source": [
    "There are 14917 assigned room that is not reserved room. I think that we could create a new variables <br>\n",
    "whether the assigned room is different from the reserved room"
   ]
  },
  {
   "cell_type": "code",
   "execution_count": 191,
   "id": "2fb31e5e-23fe-45cf-9f44-e3c7a407b2c6",
   "metadata": {},
   "outputs": [
    {
     "data": {
      "text/html": [
       "<div>\n",
       "<style scoped>\n",
       "    .dataframe tbody tr th:only-of-type {\n",
       "        vertical-align: middle;\n",
       "    }\n",
       "\n",
       "    .dataframe tbody tr th {\n",
       "        vertical-align: top;\n",
       "    }\n",
       "\n",
       "    .dataframe thead th {\n",
       "        text-align: right;\n",
       "    }\n",
       "</style>\n",
       "<table border=\"1\" class=\"dataframe\">\n",
       "  <thead>\n",
       "    <tr style=\"text-align: right;\">\n",
       "      <th>assigned_room_type</th>\n",
       "      <th>A</th>\n",
       "      <th>B</th>\n",
       "      <th>C</th>\n",
       "      <th>D</th>\n",
       "      <th>E</th>\n",
       "      <th>F</th>\n",
       "      <th>G</th>\n",
       "      <th>H</th>\n",
       "      <th>I</th>\n",
       "      <th>K</th>\n",
       "      <th>L</th>\n",
       "      <th>P</th>\n",
       "    </tr>\n",
       "    <tr>\n",
       "      <th>is_canceled</th>\n",
       "      <th></th>\n",
       "      <th></th>\n",
       "      <th></th>\n",
       "      <th></th>\n",
       "      <th></th>\n",
       "      <th></th>\n",
       "      <th></th>\n",
       "      <th></th>\n",
       "      <th></th>\n",
       "      <th></th>\n",
       "      <th></th>\n",
       "      <th></th>\n",
       "    </tr>\n",
       "  </thead>\n",
       "  <tbody>\n",
       "    <tr>\n",
       "      <th>0</th>\n",
       "      <td>41105</td>\n",
       "      <td>1651</td>\n",
       "      <td>1929</td>\n",
       "      <td>18960</td>\n",
       "      <td>5838</td>\n",
       "      <td>2824</td>\n",
       "      <td>1773</td>\n",
       "      <td>461</td>\n",
       "      <td>358</td>\n",
       "      <td>267</td>\n",
       "      <td>0</td>\n",
       "      <td>0</td>\n",
       "    </tr>\n",
       "    <tr>\n",
       "      <th>1</th>\n",
       "      <td>32948</td>\n",
       "      <td>512</td>\n",
       "      <td>446</td>\n",
       "      <td>6362</td>\n",
       "      <td>1968</td>\n",
       "      <td>927</td>\n",
       "      <td>780</td>\n",
       "      <td>251</td>\n",
       "      <td>5</td>\n",
       "      <td>12</td>\n",
       "      <td>1</td>\n",
       "      <td>12</td>\n",
       "    </tr>\n",
       "  </tbody>\n",
       "</table>\n",
       "</div>"
      ],
      "text/plain": [
       "assigned_room_type      A     B     C      D     E     F     G    H    I    K  \\\n",
       "is_canceled                                                                     \n",
       "0                   41105  1651  1929  18960  5838  2824  1773  461  358  267   \n",
       "1                   32948   512   446   6362  1968   927   780  251    5   12   \n",
       "\n",
       "assigned_room_type  L   P  \n",
       "is_canceled                \n",
       "0                   0   0  \n",
       "1                   1  12  "
      ]
     },
     "execution_count": 191,
     "metadata": {},
     "output_type": "execute_result"
    }
   ],
   "source": [
    "pd.crosstab(index=data['is_canceled'],columns=data['assigned_room_type'])"
   ]
  },
  {
   "cell_type": "markdown",
   "id": "5182d4b0-0f2d-48e9-b264-fbc390a5e8e9",
   "metadata": {},
   "source": [
    "### booking_changes (strong)"
   ]
  },
  {
   "cell_type": "code",
   "execution_count": 192,
   "id": "82638bdd-3225-46dd-a9c7-fadaabab885c",
   "metadata": {},
   "outputs": [
    {
     "name": "stdout",
     "output_type": "stream",
     "text": [
      "The number of missing values in booking_changes:  0\n"
     ]
    }
   ],
   "source": [
    "print(\"The number of missing values in booking_changes: \", data['booking_changes'].isnull().sum())"
   ]
  },
  {
   "cell_type": "code",
   "execution_count": 193,
   "id": "2d1435ff-c60c-4d37-b2c6-232c0d87ce84",
   "metadata": {},
   "outputs": [
    {
     "data": {
      "text/plain": [
       "count    119390.000000\n",
       "mean          0.221124\n",
       "std           0.652306\n",
       "min           0.000000\n",
       "25%           0.000000\n",
       "50%           0.000000\n",
       "75%           0.000000\n",
       "max          21.000000\n",
       "Name: booking_changes, dtype: float64"
      ]
     },
     "execution_count": 193,
     "metadata": {},
     "output_type": "execute_result"
    }
   ],
   "source": [
    "data['booking_changes'].describe()"
   ]
  },
  {
   "cell_type": "code",
   "execution_count": 194,
   "id": "b1a0e46e-765c-4e0e-b908-919b6bc89f83",
   "metadata": {},
   "outputs": [
    {
     "data": {
      "text/plain": [
       "0     101314\n",
       "1      12701\n",
       "2       3805\n",
       "3        927\n",
       "4        376\n",
       "5        118\n",
       "6         63\n",
       "7         31\n",
       "8         17\n",
       "9          8\n",
       "10         6\n",
       "13         5\n",
       "14         5\n",
       "15         3\n",
       "16         2\n",
       "17         2\n",
       "12         2\n",
       "11         2\n",
       "20         1\n",
       "21         1\n",
       "18         1\n",
       "Name: booking_changes, dtype: int64"
      ]
     },
     "execution_count": 194,
     "metadata": {},
     "output_type": "execute_result"
    }
   ],
   "source": [
    "data['booking_changes'].value_counts()"
   ]
  },
  {
   "cell_type": "code",
   "execution_count": 195,
   "id": "d0d0c04a-b05e-4b18-b241-e33b22045f41",
   "metadata": {},
   "outputs": [
    {
     "data": {
      "text/plain": [
       "<AxesSubplot:title={'center':'how many unique values booking_changes has'}>"
      ]
     },
     "execution_count": 195,
     "metadata": {},
     "output_type": "execute_result"
    },
    {
     "data": {
      "image/png": "[encoded data removed]",
      "text/plain": [
       "<Figure size 432x288 with 1 Axes>"
      ]
     },
     "metadata": {
      "needs_background": "light"
     },
     "output_type": "display_data"
    }
   ],
   "source": [
    "np.log(data['booking_changes'].value_counts()).plot(kind='bar', title='how many unique values booking_changes has')"
   ]
  },
  {
   "cell_type": "code",
   "execution_count": 196,
   "id": "9a3493b2-5ab6-4ed9-99f1-2b39da301e92",
   "metadata": {},
   "outputs": [
    {
     "data": {
      "text/html": [
       "<div>\n",
       "<style scoped>\n",
       "    .dataframe tbody tr th:only-of-type {\n",
       "        vertical-align: middle;\n",
       "    }\n",
       "\n",
       "    .dataframe tbody tr th {\n",
       "        vertical-align: top;\n",
       "    }\n",
       "\n",
       "    .dataframe thead th {\n",
       "        text-align: right;\n",
       "    }\n",
       "</style>\n",
       "<table border=\"1\" class=\"dataframe\">\n",
       "  <thead>\n",
       "    <tr style=\"text-align: right;\">\n",
       "      <th>booking_changes</th>\n",
       "      <th>0</th>\n",
       "      <th>1</th>\n",
       "      <th>2</th>\n",
       "      <th>3</th>\n",
       "      <th>4</th>\n",
       "      <th>5</th>\n",
       "      <th>6</th>\n",
       "      <th>7</th>\n",
       "      <th>8</th>\n",
       "      <th>9</th>\n",
       "      <th>...</th>\n",
       "      <th>11</th>\n",
       "      <th>12</th>\n",
       "      <th>13</th>\n",
       "      <th>14</th>\n",
       "      <th>15</th>\n",
       "      <th>16</th>\n",
       "      <th>17</th>\n",
       "      <th>18</th>\n",
       "      <th>20</th>\n",
       "      <th>21</th>\n",
       "    </tr>\n",
       "    <tr>\n",
       "      <th>is_canceled</th>\n",
       "      <th></th>\n",
       "      <th></th>\n",
       "      <th></th>\n",
       "      <th></th>\n",
       "      <th></th>\n",
       "      <th></th>\n",
       "      <th></th>\n",
       "      <th></th>\n",
       "      <th></th>\n",
       "      <th></th>\n",
       "      <th></th>\n",
       "      <th></th>\n",
       "      <th></th>\n",
       "      <th></th>\n",
       "      <th></th>\n",
       "      <th></th>\n",
       "      <th></th>\n",
       "      <th></th>\n",
       "      <th></th>\n",
       "      <th></th>\n",
       "      <th></th>\n",
       "    </tr>\n",
       "  </thead>\n",
       "  <tbody>\n",
       "    <tr>\n",
       "      <th>0</th>\n",
       "      <td>59923</td>\n",
       "      <td>10894</td>\n",
       "      <td>3039</td>\n",
       "      <td>783</td>\n",
       "      <td>309</td>\n",
       "      <td>98</td>\n",
       "      <td>45</td>\n",
       "      <td>28</td>\n",
       "      <td>13</td>\n",
       "      <td>7</td>\n",
       "      <td>...</td>\n",
       "      <td>2</td>\n",
       "      <td>2</td>\n",
       "      <td>5</td>\n",
       "      <td>4</td>\n",
       "      <td>3</td>\n",
       "      <td>1</td>\n",
       "      <td>2</td>\n",
       "      <td>1</td>\n",
       "      <td>1</td>\n",
       "      <td>1</td>\n",
       "    </tr>\n",
       "    <tr>\n",
       "      <th>1</th>\n",
       "      <td>41391</td>\n",
       "      <td>1807</td>\n",
       "      <td>766</td>\n",
       "      <td>144</td>\n",
       "      <td>67</td>\n",
       "      <td>20</td>\n",
       "      <td>18</td>\n",
       "      <td>3</td>\n",
       "      <td>4</td>\n",
       "      <td>1</td>\n",
       "      <td>...</td>\n",
       "      <td>0</td>\n",
       "      <td>0</td>\n",
       "      <td>0</td>\n",
       "      <td>1</td>\n",
       "      <td>0</td>\n",
       "      <td>1</td>\n",
       "      <td>0</td>\n",
       "      <td>0</td>\n",
       "      <td>0</td>\n",
       "      <td>0</td>\n",
       "    </tr>\n",
       "  </tbody>\n",
       "</table>\n",
       "<p>2 rows × 21 columns</p>\n",
       "</div>"
      ],
      "text/plain": [
       "booking_changes     0      1     2    3    4   5   6   7   8   9   ...  11  \\\n",
       "is_canceled                                                        ...       \n",
       "0                59923  10894  3039  783  309  98  45  28  13   7  ...   2   \n",
       "1                41391   1807   766  144   67  20  18   3   4   1  ...   0   \n",
       "\n",
       "booking_changes  12  13  14  15  16  17  18  20  21  \n",
       "is_canceled                                          \n",
       "0                 2   5   4   3   1   2   1   1   1  \n",
       "1                 0   0   1   0   1   0   0   0   0  \n",
       "\n",
       "[2 rows x 21 columns]"
      ]
     },
     "execution_count": 196,
     "metadata": {},
     "output_type": "execute_result"
    }
   ],
   "source": [
    "pd.crosstab(index=data['is_canceled'],columns=data['booking_changes'])"
   ]
  },
  {
   "cell_type": "markdown",
   "id": "94d32c88-d7de-45ec-a293-c4db27952876",
   "metadata": {},
   "source": [
    "### deposit_type (strong)"
   ]
  },
  {
   "cell_type": "code",
   "execution_count": 197,
   "id": "052c3d00-27e4-4d54-864e-e6d7344412ff",
   "metadata": {},
   "outputs": [
    {
     "name": "stdout",
     "output_type": "stream",
     "text": [
      "The number of missing values in deposit_type:  0\n"
     ]
    }
   ],
   "source": [
    "print(\"The number of missing values in deposit_type: \", data['deposit_type'].isnull().sum())"
   ]
  },
  {
   "cell_type": "code",
   "execution_count": 198,
   "id": "e1655e3e-8fd9-4ea9-90d9-8fdb9db27129",
   "metadata": {},
   "outputs": [
    {
     "data": {
      "text/plain": [
       "count         119390\n",
       "unique             3\n",
       "top       No Deposit\n",
       "freq          104641\n",
       "Name: deposit_type, dtype: object"
      ]
     },
     "execution_count": 198,
     "metadata": {},
     "output_type": "execute_result"
    }
   ],
   "source": [
    "data['deposit_type'].describe()"
   ]
  },
  {
   "cell_type": "code",
   "execution_count": 199,
   "id": "fc8869d8-64d2-45b8-9631-b26563e423a1",
   "metadata": {},
   "outputs": [
    {
     "data": {
      "text/plain": [
       "No Deposit    104641\n",
       "Non Refund     14587\n",
       "Refundable       162\n",
       "Name: deposit_type, dtype: int64"
      ]
     },
     "execution_count": 199,
     "metadata": {},
     "output_type": "execute_result"
    }
   ],
   "source": [
    "data['deposit_type'].value_counts()"
   ]
  },
  {
   "cell_type": "code",
   "execution_count": 200,
   "id": "ea88afad-7052-46a3-b34c-73ca7be5717e",
   "metadata": {},
   "outputs": [
    {
     "data": {
      "text/plain": [
       "<AxesSubplot:title={'center':'how many unique values deposit_type has'}>"
      ]
     },
     "execution_count": 200,
     "metadata": {},
     "output_type": "execute_result"
    },
    {
     "data": {
      "image/png": "[encoded data removed]",
      "text/plain": [
       "<Figure size 432x288 with 1 Axes>"
      ]
     },
     "metadata": {
      "needs_background": "light"
     },
     "output_type": "display_data"
    }
   ],
   "source": [
    "data['deposit_type'].value_counts().plot(kind='bar', title='how many unique values deposit_type has')"
   ]
  },
  {
   "cell_type": "code",
   "execution_count": 201,
   "id": "65a9fd6f-a966-492f-b383-ccd34b143f29",
   "metadata": {},
   "outputs": [
    {
     "data": {
      "text/html": [
       "<div>\n",
       "<style scoped>\n",
       "    .dataframe tbody tr th:only-of-type {\n",
       "        vertical-align: middle;\n",
       "    }\n",
       "\n",
       "    .dataframe tbody tr th {\n",
       "        vertical-align: top;\n",
       "    }\n",
       "\n",
       "    .dataframe thead th {\n",
       "        text-align: right;\n",
       "    }\n",
       "</style>\n",
       "<table border=\"1\" class=\"dataframe\">\n",
       "  <thead>\n",
       "    <tr style=\"text-align: right;\">\n",
       "      <th>deposit_type</th>\n",
       "      <th>No Deposit</th>\n",
       "      <th>Non Refund</th>\n",
       "      <th>Refundable</th>\n",
       "    </tr>\n",
       "    <tr>\n",
       "      <th>is_canceled</th>\n",
       "      <th></th>\n",
       "      <th></th>\n",
       "      <th></th>\n",
       "    </tr>\n",
       "  </thead>\n",
       "  <tbody>\n",
       "    <tr>\n",
       "      <th>0</th>\n",
       "      <td>74947</td>\n",
       "      <td>93</td>\n",
       "      <td>126</td>\n",
       "    </tr>\n",
       "    <tr>\n",
       "      <th>1</th>\n",
       "      <td>29694</td>\n",
       "      <td>14494</td>\n",
       "      <td>36</td>\n",
       "    </tr>\n",
       "  </tbody>\n",
       "</table>\n",
       "</div>"
      ],
      "text/plain": [
       "deposit_type  No Deposit  Non Refund  Refundable\n",
       "is_canceled                                     \n",
       "0                  74947          93         126\n",
       "1                  29694       14494          36"
      ]
     },
     "execution_count": 201,
     "metadata": {},
     "output_type": "execute_result"
    }
   ],
   "source": [
    "pd.crosstab(index=data['is_canceled'],columns=data['deposit_type'])"
   ]
  },
  {
   "cell_type": "markdown",
   "id": "dbff00d4-e80c-4611-9340-644920bbabf0",
   "metadata": {},
   "source": [
    "if a customer choose non-refund, it has more likely to cancel. This is interesting phenomon."
   ]
  },
  {
   "cell_type": "markdown",
   "id": "e412c6a0-9461-43fc-8617-734a8b490783",
   "metadata": {},
   "source": [
    "### agent"
   ]
  },
  {
   "cell_type": "code",
   "execution_count": 202,
   "id": "06497e52-fbc7-4c5e-b707-835534e7112e",
   "metadata": {},
   "outputs": [
    {
     "name": "stdout",
     "output_type": "stream",
     "text": [
      "The number of missing values in agent:  16340\n"
     ]
    }
   ],
   "source": [
    "print(\"The number of missing values in agent: \", data['agent'].isnull().sum())"
   ]
  },
  {
   "cell_type": "markdown",
   "id": "75d48ec8-cc60-4298-a757-b9732a24b9e0",
   "metadata": {},
   "source": [
    "The PMS assured no missing data exists in its database tables. However, in some categorical variables like Agent or Company, “NULL” is presented as one of the categories. This should not be considered a missing value, but rather as “not applicable”. For example, if a booking “Agent” is defined as “NULL” it means that the booking did not came from a travel agent."
   ]
  },
  {
   "cell_type": "code",
   "execution_count": 203,
   "id": "f8188c2b-225c-489b-93ca-6149340e5147",
   "metadata": {},
   "outputs": [
    {
     "data": {
      "text/plain": [
       "<AxesSubplot:title={'center':'top 10 agents'}>"
      ]
     },
     "execution_count": 203,
     "metadata": {},
     "output_type": "execute_result"
    },
    {
     "data": {
      "image/png": "[encoded data removed]",
      "text/plain": [
       "<Figure size 432x288 with 1 Axes>"
      ]
     },
     "metadata": {
      "needs_background": "light"
     },
     "output_type": "display_data"
    }
   ],
   "source": [
    "agent_unique = data['agent'].value_counts()\n",
    "agent_unique.iloc[0:10].plot(kind='bar', title='top 10 agents')"
   ]
  },
  {
   "cell_type": "code",
   "execution_count": 204,
   "id": "e63e758b-6b1c-449b-9b4d-c9b37934514f",
   "metadata": {},
   "outputs": [
    {
     "data": {
      "text/html": [
       "<div>\n",
       "<style scoped>\n",
       "    .dataframe tbody tr th:only-of-type {\n",
       "        vertical-align: middle;\n",
       "    }\n",
       "\n",
       "    .dataframe tbody tr th {\n",
       "        vertical-align: top;\n",
       "    }\n",
       "\n",
       "    .dataframe thead th {\n",
       "        text-align: right;\n",
       "    }\n",
       "</style>\n",
       "<table border=\"1\" class=\"dataframe\">\n",
       "  <thead>\n",
       "    <tr style=\"text-align: right;\">\n",
       "      <th>agent</th>\n",
       "      <th>1.0</th>\n",
       "      <th>2.0</th>\n",
       "      <th>3.0</th>\n",
       "      <th>4.0</th>\n",
       "      <th>5.0</th>\n",
       "      <th>6.0</th>\n",
       "      <th>7.0</th>\n",
       "      <th>8.0</th>\n",
       "      <th>9.0</th>\n",
       "      <th>10.0</th>\n",
       "      <th>...</th>\n",
       "      <th>495.0</th>\n",
       "      <th>497.0</th>\n",
       "      <th>502.0</th>\n",
       "      <th>508.0</th>\n",
       "      <th>509.0</th>\n",
       "      <th>510.0</th>\n",
       "      <th>526.0</th>\n",
       "      <th>527.0</th>\n",
       "      <th>531.0</th>\n",
       "      <th>535.0</th>\n",
       "    </tr>\n",
       "    <tr>\n",
       "      <th>is_canceled</th>\n",
       "      <th></th>\n",
       "      <th></th>\n",
       "      <th></th>\n",
       "      <th></th>\n",
       "      <th></th>\n",
       "      <th></th>\n",
       "      <th></th>\n",
       "      <th></th>\n",
       "      <th></th>\n",
       "      <th></th>\n",
       "      <th></th>\n",
       "      <th></th>\n",
       "      <th></th>\n",
       "      <th></th>\n",
       "      <th></th>\n",
       "      <th></th>\n",
       "      <th></th>\n",
       "      <th></th>\n",
       "      <th></th>\n",
       "      <th></th>\n",
       "      <th></th>\n",
       "    </tr>\n",
       "  </thead>\n",
       "  <tbody>\n",
       "    <tr>\n",
       "      <th>0</th>\n",
       "      <td>1911</td>\n",
       "      <td>128</td>\n",
       "      <td>565</td>\n",
       "      <td>16</td>\n",
       "      <td>181</td>\n",
       "      <td>2265</td>\n",
       "      <td>3065</td>\n",
       "      <td>1087</td>\n",
       "      <td>18697</td>\n",
       "      <td>196</td>\n",
       "      <td>...</td>\n",
       "      <td>7</td>\n",
       "      <td>1</td>\n",
       "      <td>24</td>\n",
       "      <td>6</td>\n",
       "      <td>8</td>\n",
       "      <td>2</td>\n",
       "      <td>9</td>\n",
       "      <td>35</td>\n",
       "      <td>22</td>\n",
       "      <td>3</td>\n",
       "    </tr>\n",
       "    <tr>\n",
       "      <th>1</th>\n",
       "      <td>5280</td>\n",
       "      <td>34</td>\n",
       "      <td>771</td>\n",
       "      <td>31</td>\n",
       "      <td>149</td>\n",
       "      <td>1025</td>\n",
       "      <td>474</td>\n",
       "      <td>427</td>\n",
       "      <td>13264</td>\n",
       "      <td>64</td>\n",
       "      <td>...</td>\n",
       "      <td>50</td>\n",
       "      <td>0</td>\n",
       "      <td>0</td>\n",
       "      <td>0</td>\n",
       "      <td>2</td>\n",
       "      <td>0</td>\n",
       "      <td>1</td>\n",
       "      <td>0</td>\n",
       "      <td>46</td>\n",
       "      <td>0</td>\n",
       "    </tr>\n",
       "  </tbody>\n",
       "</table>\n",
       "<p>2 rows × 333 columns</p>\n",
       "</div>"
      ],
      "text/plain": [
       "agent        1.0    2.0    3.0    4.0    5.0    6.0    7.0    8.0    9.0    \\\n",
       "is_canceled                                                                  \n",
       "0             1911    128    565     16    181   2265   3065   1087  18697   \n",
       "1             5280     34    771     31    149   1025    474    427  13264   \n",
       "\n",
       "agent        10.0   ...  495.0  497.0  502.0  508.0  509.0  510.0  526.0  \\\n",
       "is_canceled         ...                                                    \n",
       "0              196  ...      7      1     24      6      8      2      9   \n",
       "1               64  ...     50      0      0      0      2      0      1   \n",
       "\n",
       "agent        527.0  531.0  535.0  \n",
       "is_canceled                       \n",
       "0               35     22      3  \n",
       "1                0     46      0  \n",
       "\n",
       "[2 rows x 333 columns]"
      ]
     },
     "execution_count": 204,
     "metadata": {},
     "output_type": "execute_result"
    }
   ],
   "source": [
    "pd.crosstab(index=data['is_canceled'],columns=data['agent'])"
   ]
  },
  {
   "cell_type": "markdown",
   "id": "a896e03b-925c-4343-acab-ad10c66a74e8",
   "metadata": {},
   "source": [
    "## For the next step, I think we should decide business questions, and then come up with more complicated question by using EDA to answer. "
   ]
  },
  {
   "cell_type": "code",
   "execution_count": null,
   "id": "4811470d-b022-4db6-972b-a2245b167533",
   "metadata": {},
   "outputs": [],
   "source": []
  },
  {
   "cell_type": "code",
   "execution_count": null,
   "id": "1319035b-2915-4b50-bdcf-df48e02d59f3",
   "metadata": {},
   "outputs": [],
   "source": []
  },
  {
   "cell_type": "code",
   "execution_count": null,
   "id": "48b26c3f-c7ee-4fb9-91eb-409a61daf905",
   "metadata": {},
   "outputs": [],
   "source": []
  }
 ],
 "metadata": {
  "kernelspec": {
   "display_name": "Python 3 (ipykernel)",
   "language": "python",
   "name": "python3"
  },
  "language_info": {
   "codemirror_mode": {
    "name": "ipython",
    "version": 3
   },
   "file_extension": ".py",
   "mimetype": "text/x-python",
   "name": "python",
   "nbconvert_exporter": "python",
   "pygments_lexer": "ipython3",
   "version": "3.9.12"
  }
 },
 "nbformat": 4,
 "nbformat_minor": 5
}

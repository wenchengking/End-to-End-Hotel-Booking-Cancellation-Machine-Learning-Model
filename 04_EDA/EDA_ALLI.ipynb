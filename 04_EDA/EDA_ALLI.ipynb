{
 "cells": [
  {
   "cell_type": "markdown",
   "id": "2a264310",
   "metadata": {},
   "source": [
    "# MSiA 420 - Predictive Analytics II - Final Project\n",
    "## Group 3: Alejandra Lelo de Larrea Ibarra, Kiran Jyothi Sheena, Lixuan (Ellen) Chen, Wencheng Zhang\n",
    "\n",
    "# EDA on Individual Variables"
   ]
  },
  {
   "cell_type": "code",
   "execution_count": 1,
   "id": "22373fd6",
   "metadata": {},
   "outputs": [],
   "source": [
    "# Libraries\n",
    "import numpy as np\n",
    "import pandas as pd\n",
    "import matplotlib.pyplot as plt\n",
    "from matplotlib.ticker import MaxNLocator\n",
    "import seaborn as sns"
   ]
  },
  {
   "cell_type": "markdown",
   "id": "f8f55385",
   "metadata": {},
   "source": [
    "## Data"
   ]
  },
  {
   "cell_type": "code",
   "execution_count": 2,
   "id": "ca14aea6",
   "metadata": {},
   "outputs": [
    {
     "name": "stdout",
     "output_type": "stream",
     "text": [
      "Dimensions: (119390, 32)\n"
     ]
    },
    {
     "data": {
      "text/html": [
       "<div>\n",
       "<style scoped>\n",
       "    .dataframe tbody tr th:only-of-type {\n",
       "        vertical-align: middle;\n",
       "    }\n",
       "\n",
       "    .dataframe tbody tr th {\n",
       "        vertical-align: top;\n",
       "    }\n",
       "\n",
       "    .dataframe thead th {\n",
       "        text-align: right;\n",
       "    }\n",
       "</style>\n",
       "<table border=\"1\" class=\"dataframe\">\n",
       "  <thead>\n",
       "    <tr style=\"text-align: right;\">\n",
       "      <th></th>\n",
       "      <th>hotel</th>\n",
       "      <th>is_canceled</th>\n",
       "      <th>lead_time</th>\n",
       "      <th>arrival_date_year</th>\n",
       "      <th>arrival_date_month</th>\n",
       "      <th>arrival_date_week_number</th>\n",
       "      <th>arrival_date_day_of_month</th>\n",
       "      <th>stays_in_weekend_nights</th>\n",
       "      <th>stays_in_week_nights</th>\n",
       "      <th>adults</th>\n",
       "      <th>...</th>\n",
       "      <th>deposit_type</th>\n",
       "      <th>agent</th>\n",
       "      <th>company</th>\n",
       "      <th>days_in_waiting_list</th>\n",
       "      <th>customer_type</th>\n",
       "      <th>adr</th>\n",
       "      <th>required_car_parking_spaces</th>\n",
       "      <th>total_of_special_requests</th>\n",
       "      <th>reservation_status</th>\n",
       "      <th>reservation_status_date</th>\n",
       "    </tr>\n",
       "  </thead>\n",
       "  <tbody>\n",
       "    <tr>\n",
       "      <th>0</th>\n",
       "      <td>Resort Hotel</td>\n",
       "      <td>0</td>\n",
       "      <td>342</td>\n",
       "      <td>2015</td>\n",
       "      <td>July</td>\n",
       "      <td>27</td>\n",
       "      <td>1</td>\n",
       "      <td>0</td>\n",
       "      <td>0</td>\n",
       "      <td>2</td>\n",
       "      <td>...</td>\n",
       "      <td>No Deposit</td>\n",
       "      <td>NaN</td>\n",
       "      <td>NaN</td>\n",
       "      <td>0</td>\n",
       "      <td>Transient</td>\n",
       "      <td>0.0</td>\n",
       "      <td>0</td>\n",
       "      <td>0</td>\n",
       "      <td>Check-Out</td>\n",
       "      <td>2015-07-01</td>\n",
       "    </tr>\n",
       "    <tr>\n",
       "      <th>1</th>\n",
       "      <td>Resort Hotel</td>\n",
       "      <td>0</td>\n",
       "      <td>737</td>\n",
       "      <td>2015</td>\n",
       "      <td>July</td>\n",
       "      <td>27</td>\n",
       "      <td>1</td>\n",
       "      <td>0</td>\n",
       "      <td>0</td>\n",
       "      <td>2</td>\n",
       "      <td>...</td>\n",
       "      <td>No Deposit</td>\n",
       "      <td>NaN</td>\n",
       "      <td>NaN</td>\n",
       "      <td>0</td>\n",
       "      <td>Transient</td>\n",
       "      <td>0.0</td>\n",
       "      <td>0</td>\n",
       "      <td>0</td>\n",
       "      <td>Check-Out</td>\n",
       "      <td>2015-07-01</td>\n",
       "    </tr>\n",
       "    <tr>\n",
       "      <th>2</th>\n",
       "      <td>Resort Hotel</td>\n",
       "      <td>0</td>\n",
       "      <td>7</td>\n",
       "      <td>2015</td>\n",
       "      <td>July</td>\n",
       "      <td>27</td>\n",
       "      <td>1</td>\n",
       "      <td>0</td>\n",
       "      <td>1</td>\n",
       "      <td>1</td>\n",
       "      <td>...</td>\n",
       "      <td>No Deposit</td>\n",
       "      <td>NaN</td>\n",
       "      <td>NaN</td>\n",
       "      <td>0</td>\n",
       "      <td>Transient</td>\n",
       "      <td>75.0</td>\n",
       "      <td>0</td>\n",
       "      <td>0</td>\n",
       "      <td>Check-Out</td>\n",
       "      <td>2015-07-02</td>\n",
       "    </tr>\n",
       "    <tr>\n",
       "      <th>3</th>\n",
       "      <td>Resort Hotel</td>\n",
       "      <td>0</td>\n",
       "      <td>13</td>\n",
       "      <td>2015</td>\n",
       "      <td>July</td>\n",
       "      <td>27</td>\n",
       "      <td>1</td>\n",
       "      <td>0</td>\n",
       "      <td>1</td>\n",
       "      <td>1</td>\n",
       "      <td>...</td>\n",
       "      <td>No Deposit</td>\n",
       "      <td>304.0</td>\n",
       "      <td>NaN</td>\n",
       "      <td>0</td>\n",
       "      <td>Transient</td>\n",
       "      <td>75.0</td>\n",
       "      <td>0</td>\n",
       "      <td>0</td>\n",
       "      <td>Check-Out</td>\n",
       "      <td>2015-07-02</td>\n",
       "    </tr>\n",
       "    <tr>\n",
       "      <th>4</th>\n",
       "      <td>Resort Hotel</td>\n",
       "      <td>0</td>\n",
       "      <td>14</td>\n",
       "      <td>2015</td>\n",
       "      <td>July</td>\n",
       "      <td>27</td>\n",
       "      <td>1</td>\n",
       "      <td>0</td>\n",
       "      <td>2</td>\n",
       "      <td>2</td>\n",
       "      <td>...</td>\n",
       "      <td>No Deposit</td>\n",
       "      <td>240.0</td>\n",
       "      <td>NaN</td>\n",
       "      <td>0</td>\n",
       "      <td>Transient</td>\n",
       "      <td>98.0</td>\n",
       "      <td>0</td>\n",
       "      <td>1</td>\n",
       "      <td>Check-Out</td>\n",
       "      <td>2015-07-03</td>\n",
       "    </tr>\n",
       "  </tbody>\n",
       "</table>\n",
       "<p>5 rows × 32 columns</p>\n",
       "</div>"
      ],
      "text/plain": [
       "          hotel  is_canceled  lead_time  arrival_date_year arrival_date_month  \\\n",
       "0  Resort Hotel            0        342               2015               July   \n",
       "1  Resort Hotel            0        737               2015               July   \n",
       "2  Resort Hotel            0          7               2015               July   \n",
       "3  Resort Hotel            0         13               2015               July   \n",
       "4  Resort Hotel            0         14               2015               July   \n",
       "\n",
       "   arrival_date_week_number  arrival_date_day_of_month  \\\n",
       "0                        27                          1   \n",
       "1                        27                          1   \n",
       "2                        27                          1   \n",
       "3                        27                          1   \n",
       "4                        27                          1   \n",
       "\n",
       "   stays_in_weekend_nights  stays_in_week_nights  adults  ...  deposit_type  \\\n",
       "0                        0                     0       2  ...    No Deposit   \n",
       "1                        0                     0       2  ...    No Deposit   \n",
       "2                        0                     1       1  ...    No Deposit   \n",
       "3                        0                     1       1  ...    No Deposit   \n",
       "4                        0                     2       2  ...    No Deposit   \n",
       "\n",
       "   agent company days_in_waiting_list customer_type   adr  \\\n",
       "0    NaN     NaN                    0     Transient   0.0   \n",
       "1    NaN     NaN                    0     Transient   0.0   \n",
       "2    NaN     NaN                    0     Transient  75.0   \n",
       "3  304.0     NaN                    0     Transient  75.0   \n",
       "4  240.0     NaN                    0     Transient  98.0   \n",
       "\n",
       "   required_car_parking_spaces  total_of_special_requests  reservation_status  \\\n",
       "0                            0                          0           Check-Out   \n",
       "1                            0                          0           Check-Out   \n",
       "2                            0                          0           Check-Out   \n",
       "3                            0                          0           Check-Out   \n",
       "4                            0                          1           Check-Out   \n",
       "\n",
       "  reservation_status_date  \n",
       "0              2015-07-01  \n",
       "1              2015-07-01  \n",
       "2              2015-07-02  \n",
       "3              2015-07-02  \n",
       "4              2015-07-03  \n",
       "\n",
       "[5 rows x 32 columns]"
      ]
     },
     "execution_count": 2,
     "metadata": {},
     "output_type": "execute_result"
    }
   ],
   "source": [
    "# Read data \n",
    "data = pd.read_csv(\"../02_Data/hotel_bookings.csv\")\n",
    "\n",
    "# Dimensions \n",
    "print(\"Dimensions: \" + str(data.shape))\n",
    "\n",
    "# Print header \n",
    "data.head()"
   ]
  },
  {
   "cell_type": "code",
   "execution_count": 3,
   "id": "1fc233a5",
   "metadata": {},
   "outputs": [
    {
     "data": {
      "text/plain": [
       "hotel                                  0\n",
       "is_canceled                            0\n",
       "lead_time                              0\n",
       "arrival_date_year                      0\n",
       "arrival_date_month                     0\n",
       "arrival_date_week_number               0\n",
       "arrival_date_day_of_month              0\n",
       "stays_in_weekend_nights                0\n",
       "stays_in_week_nights                   0\n",
       "adults                                 0\n",
       "children                               4\n",
       "babies                                 0\n",
       "meal                                   0\n",
       "country                              488\n",
       "market_segment                         0\n",
       "distribution_channel                   0\n",
       "is_repeated_guest                      0\n",
       "previous_cancellations                 0\n",
       "previous_bookings_not_canceled         0\n",
       "reserved_room_type                     0\n",
       "assigned_room_type                     0\n",
       "booking_changes                        0\n",
       "deposit_type                           0\n",
       "agent                              16340\n",
       "company                           112593\n",
       "days_in_waiting_list                   0\n",
       "customer_type                          0\n",
       "adr                                    0\n",
       "required_car_parking_spaces            0\n",
       "total_of_special_requests              0\n",
       "reservation_status                     0\n",
       "reservation_status_date                0\n",
       "dtype: int64"
      ]
     },
     "execution_count": 3,
     "metadata": {},
     "output_type": "execute_result"
    }
   ],
   "source": [
    "# Check if there are NA's \n",
    "data.isna().sum()"
   ]
  },
  {
   "cell_type": "markdown",
   "id": "6ee3430d",
   "metadata": {},
   "source": [
    "There are missing values in *children, country, agent and company*. For *children* we can assume missings mean no children, for *country* we could create a \"not stated\" category, for *agent* its most likely that missings mean self-booked, *company* should be removed since missings represent 94\\% of the data."
   ]
  },
  {
   "cell_type": "code",
   "execution_count": 4,
   "id": "4dafc316",
   "metadata": {},
   "outputs": [
    {
     "data": {
      "text/html": [
       "<div>\n",
       "<style scoped>\n",
       "    .dataframe tbody tr th:only-of-type {\n",
       "        vertical-align: middle;\n",
       "    }\n",
       "\n",
       "    .dataframe tbody tr th {\n",
       "        vertical-align: top;\n",
       "    }\n",
       "\n",
       "    .dataframe thead th {\n",
       "        text-align: right;\n",
       "    }\n",
       "</style>\n",
       "<table border=\"1\" class=\"dataframe\">\n",
       "  <thead>\n",
       "    <tr style=\"text-align: right;\">\n",
       "      <th></th>\n",
       "      <th>is_canceled</th>\n",
       "      <th>lead_time</th>\n",
       "      <th>arrival_date_year</th>\n",
       "      <th>arrival_date_week_number</th>\n",
       "      <th>arrival_date_day_of_month</th>\n",
       "      <th>stays_in_weekend_nights</th>\n",
       "      <th>stays_in_week_nights</th>\n",
       "      <th>adults</th>\n",
       "      <th>children</th>\n",
       "      <th>babies</th>\n",
       "      <th>is_repeated_guest</th>\n",
       "      <th>previous_cancellations</th>\n",
       "      <th>previous_bookings_not_canceled</th>\n",
       "      <th>booking_changes</th>\n",
       "      <th>agent</th>\n",
       "      <th>company</th>\n",
       "      <th>days_in_waiting_list</th>\n",
       "      <th>adr</th>\n",
       "      <th>required_car_parking_spaces</th>\n",
       "      <th>total_of_special_requests</th>\n",
       "    </tr>\n",
       "  </thead>\n",
       "  <tbody>\n",
       "    <tr>\n",
       "      <th>count</th>\n",
       "      <td>119390.000000</td>\n",
       "      <td>119390.000000</td>\n",
       "      <td>119390.000000</td>\n",
       "      <td>119390.000000</td>\n",
       "      <td>119390.000000</td>\n",
       "      <td>119390.000000</td>\n",
       "      <td>119390.000000</td>\n",
       "      <td>119390.000000</td>\n",
       "      <td>119386.000000</td>\n",
       "      <td>119390.000000</td>\n",
       "      <td>119390.000000</td>\n",
       "      <td>119390.000000</td>\n",
       "      <td>119390.000000</td>\n",
       "      <td>119390.000000</td>\n",
       "      <td>103050.000000</td>\n",
       "      <td>6797.000000</td>\n",
       "      <td>119390.000000</td>\n",
       "      <td>119390.000000</td>\n",
       "      <td>119390.000000</td>\n",
       "      <td>119390.000000</td>\n",
       "    </tr>\n",
       "    <tr>\n",
       "      <th>mean</th>\n",
       "      <td>0.370416</td>\n",
       "      <td>104.011416</td>\n",
       "      <td>2016.156554</td>\n",
       "      <td>27.165173</td>\n",
       "      <td>15.798241</td>\n",
       "      <td>0.927599</td>\n",
       "      <td>2.500302</td>\n",
       "      <td>1.856403</td>\n",
       "      <td>0.103890</td>\n",
       "      <td>0.007949</td>\n",
       "      <td>0.031912</td>\n",
       "      <td>0.087118</td>\n",
       "      <td>0.137097</td>\n",
       "      <td>0.221124</td>\n",
       "      <td>86.693382</td>\n",
       "      <td>189.266735</td>\n",
       "      <td>2.321149</td>\n",
       "      <td>101.831122</td>\n",
       "      <td>0.062518</td>\n",
       "      <td>0.571363</td>\n",
       "    </tr>\n",
       "    <tr>\n",
       "      <th>std</th>\n",
       "      <td>0.482918</td>\n",
       "      <td>106.863097</td>\n",
       "      <td>0.707476</td>\n",
       "      <td>13.605138</td>\n",
       "      <td>8.780829</td>\n",
       "      <td>0.998613</td>\n",
       "      <td>1.908286</td>\n",
       "      <td>0.579261</td>\n",
       "      <td>0.398561</td>\n",
       "      <td>0.097436</td>\n",
       "      <td>0.175767</td>\n",
       "      <td>0.844336</td>\n",
       "      <td>1.497437</td>\n",
       "      <td>0.652306</td>\n",
       "      <td>110.774548</td>\n",
       "      <td>131.655015</td>\n",
       "      <td>17.594721</td>\n",
       "      <td>50.535790</td>\n",
       "      <td>0.245291</td>\n",
       "      <td>0.792798</td>\n",
       "    </tr>\n",
       "    <tr>\n",
       "      <th>min</th>\n",
       "      <td>0.000000</td>\n",
       "      <td>0.000000</td>\n",
       "      <td>2015.000000</td>\n",
       "      <td>1.000000</td>\n",
       "      <td>1.000000</td>\n",
       "      <td>0.000000</td>\n",
       "      <td>0.000000</td>\n",
       "      <td>0.000000</td>\n",
       "      <td>0.000000</td>\n",
       "      <td>0.000000</td>\n",
       "      <td>0.000000</td>\n",
       "      <td>0.000000</td>\n",
       "      <td>0.000000</td>\n",
       "      <td>0.000000</td>\n",
       "      <td>1.000000</td>\n",
       "      <td>6.000000</td>\n",
       "      <td>0.000000</td>\n",
       "      <td>-6.380000</td>\n",
       "      <td>0.000000</td>\n",
       "      <td>0.000000</td>\n",
       "    </tr>\n",
       "    <tr>\n",
       "      <th>25%</th>\n",
       "      <td>0.000000</td>\n",
       "      <td>18.000000</td>\n",
       "      <td>2016.000000</td>\n",
       "      <td>16.000000</td>\n",
       "      <td>8.000000</td>\n",
       "      <td>0.000000</td>\n",
       "      <td>1.000000</td>\n",
       "      <td>2.000000</td>\n",
       "      <td>0.000000</td>\n",
       "      <td>0.000000</td>\n",
       "      <td>0.000000</td>\n",
       "      <td>0.000000</td>\n",
       "      <td>0.000000</td>\n",
       "      <td>0.000000</td>\n",
       "      <td>9.000000</td>\n",
       "      <td>62.000000</td>\n",
       "      <td>0.000000</td>\n",
       "      <td>69.290000</td>\n",
       "      <td>0.000000</td>\n",
       "      <td>0.000000</td>\n",
       "    </tr>\n",
       "    <tr>\n",
       "      <th>50%</th>\n",
       "      <td>0.000000</td>\n",
       "      <td>69.000000</td>\n",
       "      <td>2016.000000</td>\n",
       "      <td>28.000000</td>\n",
       "      <td>16.000000</td>\n",
       "      <td>1.000000</td>\n",
       "      <td>2.000000</td>\n",
       "      <td>2.000000</td>\n",
       "      <td>0.000000</td>\n",
       "      <td>0.000000</td>\n",
       "      <td>0.000000</td>\n",
       "      <td>0.000000</td>\n",
       "      <td>0.000000</td>\n",
       "      <td>0.000000</td>\n",
       "      <td>14.000000</td>\n",
       "      <td>179.000000</td>\n",
       "      <td>0.000000</td>\n",
       "      <td>94.575000</td>\n",
       "      <td>0.000000</td>\n",
       "      <td>0.000000</td>\n",
       "    </tr>\n",
       "    <tr>\n",
       "      <th>75%</th>\n",
       "      <td>1.000000</td>\n",
       "      <td>160.000000</td>\n",
       "      <td>2017.000000</td>\n",
       "      <td>38.000000</td>\n",
       "      <td>23.000000</td>\n",
       "      <td>2.000000</td>\n",
       "      <td>3.000000</td>\n",
       "      <td>2.000000</td>\n",
       "      <td>0.000000</td>\n",
       "      <td>0.000000</td>\n",
       "      <td>0.000000</td>\n",
       "      <td>0.000000</td>\n",
       "      <td>0.000000</td>\n",
       "      <td>0.000000</td>\n",
       "      <td>229.000000</td>\n",
       "      <td>270.000000</td>\n",
       "      <td>0.000000</td>\n",
       "      <td>126.000000</td>\n",
       "      <td>0.000000</td>\n",
       "      <td>1.000000</td>\n",
       "    </tr>\n",
       "    <tr>\n",
       "      <th>max</th>\n",
       "      <td>1.000000</td>\n",
       "      <td>737.000000</td>\n",
       "      <td>2017.000000</td>\n",
       "      <td>53.000000</td>\n",
       "      <td>31.000000</td>\n",
       "      <td>19.000000</td>\n",
       "      <td>50.000000</td>\n",
       "      <td>55.000000</td>\n",
       "      <td>10.000000</td>\n",
       "      <td>10.000000</td>\n",
       "      <td>1.000000</td>\n",
       "      <td>26.000000</td>\n",
       "      <td>72.000000</td>\n",
       "      <td>21.000000</td>\n",
       "      <td>535.000000</td>\n",
       "      <td>543.000000</td>\n",
       "      <td>391.000000</td>\n",
       "      <td>5400.000000</td>\n",
       "      <td>8.000000</td>\n",
       "      <td>5.000000</td>\n",
       "    </tr>\n",
       "  </tbody>\n",
       "</table>\n",
       "</div>"
      ],
      "text/plain": [
       "         is_canceled      lead_time  arrival_date_year  \\\n",
       "count  119390.000000  119390.000000      119390.000000   \n",
       "mean        0.370416     104.011416        2016.156554   \n",
       "std         0.482918     106.863097           0.707476   \n",
       "min         0.000000       0.000000        2015.000000   \n",
       "25%         0.000000      18.000000        2016.000000   \n",
       "50%         0.000000      69.000000        2016.000000   \n",
       "75%         1.000000     160.000000        2017.000000   \n",
       "max         1.000000     737.000000        2017.000000   \n",
       "\n",
       "       arrival_date_week_number  arrival_date_day_of_month  \\\n",
       "count             119390.000000              119390.000000   \n",
       "mean                  27.165173                  15.798241   \n",
       "std                   13.605138                   8.780829   \n",
       "min                    1.000000                   1.000000   \n",
       "25%                   16.000000                   8.000000   \n",
       "50%                   28.000000                  16.000000   \n",
       "75%                   38.000000                  23.000000   \n",
       "max                   53.000000                  31.000000   \n",
       "\n",
       "       stays_in_weekend_nights  stays_in_week_nights         adults  \\\n",
       "count            119390.000000         119390.000000  119390.000000   \n",
       "mean                  0.927599              2.500302       1.856403   \n",
       "std                   0.998613              1.908286       0.579261   \n",
       "min                   0.000000              0.000000       0.000000   \n",
       "25%                   0.000000              1.000000       2.000000   \n",
       "50%                   1.000000              2.000000       2.000000   \n",
       "75%                   2.000000              3.000000       2.000000   \n",
       "max                  19.000000             50.000000      55.000000   \n",
       "\n",
       "            children         babies  is_repeated_guest  \\\n",
       "count  119386.000000  119390.000000      119390.000000   \n",
       "mean        0.103890       0.007949           0.031912   \n",
       "std         0.398561       0.097436           0.175767   \n",
       "min         0.000000       0.000000           0.000000   \n",
       "25%         0.000000       0.000000           0.000000   \n",
       "50%         0.000000       0.000000           0.000000   \n",
       "75%         0.000000       0.000000           0.000000   \n",
       "max        10.000000      10.000000           1.000000   \n",
       "\n",
       "       previous_cancellations  previous_bookings_not_canceled  \\\n",
       "count           119390.000000                   119390.000000   \n",
       "mean                 0.087118                        0.137097   \n",
       "std                  0.844336                        1.497437   \n",
       "min                  0.000000                        0.000000   \n",
       "25%                  0.000000                        0.000000   \n",
       "50%                  0.000000                        0.000000   \n",
       "75%                  0.000000                        0.000000   \n",
       "max                 26.000000                       72.000000   \n",
       "\n",
       "       booking_changes          agent      company  days_in_waiting_list  \\\n",
       "count    119390.000000  103050.000000  6797.000000         119390.000000   \n",
       "mean          0.221124      86.693382   189.266735              2.321149   \n",
       "std           0.652306     110.774548   131.655015             17.594721   \n",
       "min           0.000000       1.000000     6.000000              0.000000   \n",
       "25%           0.000000       9.000000    62.000000              0.000000   \n",
       "50%           0.000000      14.000000   179.000000              0.000000   \n",
       "75%           0.000000     229.000000   270.000000              0.000000   \n",
       "max          21.000000     535.000000   543.000000            391.000000   \n",
       "\n",
       "                 adr  required_car_parking_spaces  total_of_special_requests  \n",
       "count  119390.000000                119390.000000              119390.000000  \n",
       "mean      101.831122                     0.062518                   0.571363  \n",
       "std        50.535790                     0.245291                   0.792798  \n",
       "min        -6.380000                     0.000000                   0.000000  \n",
       "25%        69.290000                     0.000000                   0.000000  \n",
       "50%        94.575000                     0.000000                   0.000000  \n",
       "75%       126.000000                     0.000000                   1.000000  \n",
       "max      5400.000000                     8.000000                   5.000000  "
      ]
     },
     "execution_count": 4,
     "metadata": {},
     "output_type": "execute_result"
    }
   ],
   "source": [
    "# Get summary statistics\n",
    "data.describe()"
   ]
  },
  {
   "cell_type": "code",
   "execution_count": 5,
   "id": "3ead5784",
   "metadata": {},
   "outputs": [
    {
     "data": {
      "text/plain": [
       "[Text(0.5, 1.0, 'Correlation between features')]"
      ]
     },
     "execution_count": 5,
     "metadata": {},
     "output_type": "execute_result"
    },
    {
     "data": {
      "image/png": "[encoded data removed]",
      "text/plain": [
       "<Figure size 842.4x595.44 with 2 Axes>"
      ]
     },
     "metadata": {},
     "output_type": "display_data"
    }
   ],
   "source": [
    "# Correlation plot \n",
    "corr = data.corr()\n",
    "sns.set(rc = {'figure.figsize':(11.7, 8.27)})\n",
    "sns.heatmap(corr).set(title=\"Correlation between features\")"
   ]
  },
  {
   "cell_type": "markdown",
   "id": "db99b0b9",
   "metadata": {},
   "source": [
    "Target variable is not strongly linearly correlated with predictors. The strongest correlations with *is_canceled* are *total_of_special_requests* (-0.23), *required_car_parking_spaces* (-0.19), *booking_changes* (-0.14), *previous_cancellations* (0.11)."
   ]
  },
  {
   "cell_type": "code",
   "execution_count": 6,
   "id": "c7cf228e",
   "metadata": {},
   "outputs": [],
   "source": [
    "# Correlation pair plot \n",
    "#sns.pairplot(data, hue = \"is_canceled\", palette = ['green', 'red'], markers = [\"o\", \"D\"])"
   ]
  },
  {
   "cell_type": "markdown",
   "id": "f00d55ac",
   "metadata": {},
   "source": [
    "## EDA - ALLI - "
   ]
  },
  {
   "cell_type": "markdown",
   "id": "9531a06b",
   "metadata": {},
   "source": [
    "### Country"
   ]
  },
  {
   "cell_type": "code",
   "execution_count": 6,
   "id": "5cceb337",
   "metadata": {},
   "outputs": [
    {
     "data": {
      "text/plain": [
       "PRT    48590\n",
       "GBR    12129\n",
       "FRA    10415\n",
       "ESP     8568\n",
       "DEU     7287\n",
       "       ...  \n",
       "DJI        1\n",
       "BWA        1\n",
       "HND        1\n",
       "VGB        1\n",
       "NAM        1\n",
       "Name: country, Length: 177, dtype: int64"
      ]
     },
     "execution_count": 6,
     "metadata": {},
     "output_type": "execute_result"
    }
   ],
   "source": [
    "# Unique values \n",
    "tbl_country = data.country.value_counts()\n",
    "tbl_country"
   ]
  },
  {
   "cell_type": "code",
   "execution_count": 7,
   "id": "cb549500",
   "metadata": {},
   "outputs": [
    {
     "data": {
      "text/plain": [
       "<AxesSubplot:title={'center':'Top 20 countries of origin'}>"
      ]
     },
     "execution_count": 7,
     "metadata": {},
     "output_type": "execute_result"
    },
    {
     "data": {
      "image/png": "[encoded data removed]",
      "text/plain": [
       "<Figure size 842.4x595.44 with 1 Axes>"
      ]
     },
     "metadata": {},
     "output_type": "display_data"
    }
   ],
   "source": [
    "# Unique values \n",
    "tbl_country[0:20].plot(kind = \"bar\", title = \"Top 20 countries of origin\")"
   ]
  },
  {
   "cell_type": "markdown",
   "id": "526e1086",
   "metadata": {},
   "source": [
    "The majority of the customers come from Portugal. We could assume this is the country where the hotels are located and that most customers are nationals. "
   ]
  },
  {
   "cell_type": "code",
   "execution_count": 8,
   "id": "2df468a6",
   "metadata": {},
   "outputs": [
    {
     "data": {
      "text/plain": [
       "488"
      ]
     },
     "execution_count": 8,
     "metadata": {},
     "output_type": "execute_result"
    }
   ],
   "source": [
    "# Missing values\n",
    "data['country'].isna().sum()"
   ]
  },
  {
   "cell_type": "markdown",
   "id": "7fd8a6ac",
   "metadata": {},
   "source": [
    "For the missing values in countr, I propose to create a new category \"Not stated\". "
   ]
  },
  {
   "cell_type": "markdown",
   "id": "bdb0b1e4",
   "metadata": {},
   "source": [
    "### is_canceled"
   ]
  },
  {
   "cell_type": "code",
   "execution_count": 9,
   "id": "f1c6aec6",
   "metadata": {},
   "outputs": [
    {
     "data": {
      "text/plain": [
       "0    75166\n",
       "1    44224\n",
       "Name: is_canceled, dtype: int64"
      ]
     },
     "execution_count": 9,
     "metadata": {},
     "output_type": "execute_result"
    }
   ],
   "source": [
    "data.is_canceled.value_counts()"
   ]
  },
  {
   "cell_type": "markdown",
   "id": "9f7a493e",
   "metadata": {},
   "source": [
    "### Company"
   ]
  },
  {
   "cell_type": "code",
   "execution_count": 10,
   "id": "9e663b4f",
   "metadata": {},
   "outputs": [
    {
     "data": {
      "text/plain": [
       "count    6797.000000\n",
       "mean      189.266735\n",
       "std       131.655015\n",
       "min         6.000000\n",
       "25%        62.000000\n",
       "50%       179.000000\n",
       "75%       270.000000\n",
       "max       543.000000\n",
       "Name: company, dtype: float64"
      ]
     },
     "execution_count": 10,
     "metadata": {},
     "output_type": "execute_result"
    }
   ],
   "source": [
    "# Describe\n",
    "data.company.describe()"
   ]
  },
  {
   "cell_type": "code",
   "execution_count": 11,
   "id": "a013602e",
   "metadata": {},
   "outputs": [
    {
     "data": {
      "text/plain": [
       "112593"
      ]
     },
     "execution_count": 11,
     "metadata": {},
     "output_type": "execute_result"
    }
   ],
   "source": [
    "# Missing values \n",
    "data.company.isna().sum()"
   ]
  },
  {
   "cell_type": "code",
   "execution_count": 12,
   "id": "4c19ffb1",
   "metadata": {},
   "outputs": [
    {
     "data": {
      "text/plain": [
       "40.0     927\n",
       "223.0    784\n",
       "67.0     267\n",
       "45.0     250\n",
       "153.0    215\n",
       "        ... \n",
       "104.0      1\n",
       "531.0      1\n",
       "160.0      1\n",
       "413.0      1\n",
       "386.0      1\n",
       "Name: company, Length: 352, dtype: int64"
      ]
     },
     "execution_count": 12,
     "metadata": {},
     "output_type": "execute_result"
    }
   ],
   "source": [
    "# Company should be categorical. Get frequency table with proportion of cancelations\n",
    "data.company.value_counts()"
   ]
  },
  {
   "cell_type": "markdown",
   "id": "8da8fc9f",
   "metadata": {},
   "source": [
    "Company is the ID of company/entity that made the booking or responsible for paying the booking. 96% are missing values. I suggest we drop this feature from the sample or transform to dummy variable (booked_by_company)"
   ]
  },
  {
   "cell_type": "markdown",
   "id": "6fbd633a",
   "metadata": {},
   "source": [
    "### days_in_waiting_list"
   ]
  },
  {
   "cell_type": "code",
   "execution_count": 13,
   "id": "6c1d6b86",
   "metadata": {},
   "outputs": [
    {
     "data": {
      "text/plain": [
       "count    119390.000000\n",
       "mean          2.321149\n",
       "std          17.594721\n",
       "min           0.000000\n",
       "25%           0.000000\n",
       "50%           0.000000\n",
       "75%           0.000000\n",
       "max         391.000000\n",
       "Name: days_in_waiting_list, dtype: float64"
      ]
     },
     "execution_count": 13,
     "metadata": {},
     "output_type": "execute_result"
    }
   ],
   "source": [
    "# Summary statistics\n",
    "data.days_in_waiting_list.describe()"
   ]
  },
  {
   "cell_type": "code",
   "execution_count": 14,
   "id": "63356855",
   "metadata": {},
   "outputs": [
    {
     "data": {
      "text/plain": [
       "[Text(0.5, 1.0, 'Distribution of days_in_waiting_list'),\n",
       " Text(0.5, 0, 'days in wating list')]"
      ]
     },
     "execution_count": 14,
     "metadata": {},
     "output_type": "execute_result"
    },
    {
     "data": {
      "image/png": "[encoded data removed]",
      "text/plain": [
       "<Figure size 842.4x595.44 with 1 Axes>"
      ]
     },
     "metadata": {},
     "output_type": "display_data"
    }
   ],
   "source": [
    "data.days_in_waiting_list.plot(kind = \"hist\").set(title='Distribution of days_in_waiting_list',\n",
    "                                                  xlabel = \"days in wating list\")"
   ]
  },
  {
   "cell_type": "code",
   "execution_count": 15,
   "id": "ac6612be",
   "metadata": {},
   "outputs": [
    {
     "data": {
      "text/plain": [
       "[Text(0.5, 1.0, 'Outliers of days_in_waiting_list'),\n",
       " Text(0, 0.5, 'days in wating list')]"
      ]
     },
     "execution_count": 15,
     "metadata": {},
     "output_type": "execute_result"
    },
    {
     "data": {
      "image/png": "[encoded data removed]",
      "text/plain": [
       "<Figure size 842.4x595.44 with 1 Axes>"
      ]
     },
     "metadata": {},
     "output_type": "display_data"
    }
   ],
   "source": [
    "data.boxplot(\"days_in_waiting_list\").set(title='Outliers of days_in_waiting_list',\n",
    "                                                  ylabel = \"days in wating list\")"
   ]
  },
  {
   "cell_type": "code",
   "execution_count": 16,
   "id": "8b0473c8",
   "metadata": {},
   "outputs": [
    {
     "data": {
      "text/plain": [
       "[Text(0.5, 1.0, 'Distribution of log(days_in_waiting_list)'),\n",
       " Text(0.5, 0, 'log(days in wating list)')]"
      ]
     },
     "execution_count": 16,
     "metadata": {},
     "output_type": "execute_result"
    },
    {
     "data": {
      "image/png": "[encoded data removed]",
      "text/plain": [
       "<Figure size 842.4x595.44 with 1 Axes>"
      ]
     },
     "metadata": {},
     "output_type": "display_data"
    }
   ],
   "source": [
    "np.log(data.days_in_waiting_list+1).plot(kind = \"hist\").set(title='Distribution of log(days_in_waiting_list)',\n",
    "                                                  xlabel = \"log(days in wating list)\")"
   ]
  },
  {
   "cell_type": "markdown",
   "id": "eb78a672",
   "metadata": {},
   "source": [
    "The maximum value of days in waiting list is 391, I think this couldbe an outlier since it is more htan one year. Lets see the unique values or this feature."
   ]
  },
  {
   "cell_type": "code",
   "execution_count": 17,
   "id": "1f05a5f8",
   "metadata": {},
   "outputs": [
    {
     "data": {
      "text/plain": [
       "array([  0,   1,   2,   3,   4,   5,   6,   7,   8,   9,  10,  11,  12,\n",
       "        13,  14,  15,  16,  17,  18,  19,  20,  21,  22,  23,  24,  25,\n",
       "        26,  27,  28,  30,  31,  32,  33,  34,  35,  36,  37,  38,  39,\n",
       "        40,  41,  42,  43,  44,  45,  46,  47,  48,  49,  50,  52,  53,\n",
       "        54,  55,  56,  57,  58,  59,  60,  61,  62,  63,  64,  65,  68,\n",
       "        69,  70,  71,  72,  73,  74,  75,  76,  77,  79,  80,  81,  83,\n",
       "        84,  85,  87,  89,  91,  92,  93,  96,  97,  98,  99, 100, 101,\n",
       "       105, 107, 108, 109, 111, 113, 116, 117, 120, 121, 122, 125, 142,\n",
       "       147, 150, 154, 160, 162, 165, 167, 174, 175, 176, 178, 183, 185,\n",
       "       187, 193, 207, 215, 223, 224, 236, 259, 330, 379, 391])"
      ]
     },
     "execution_count": 17,
     "metadata": {},
     "output_type": "execute_result"
    }
   ],
   "source": [
    "# Unique values \n",
    "np.sort(data.days_in_waiting_list.unique())"
   ]
  },
  {
   "cell_type": "code",
   "execution_count": 18,
   "id": "d265bb54",
   "metadata": {},
   "outputs": [
    {
     "data": {
      "text/plain": [
       "446"
      ]
     },
     "execution_count": 18,
     "metadata": {},
     "output_type": "execute_result"
    }
   ],
   "source": [
    "# Possible outliers\n",
    "len(data.days_in_waiting_list[data.days_in_waiting_list >= 150])"
   ]
  },
  {
   "cell_type": "code",
   "execution_count": 19,
   "id": "7d15fcc2",
   "metadata": {},
   "outputs": [
    {
     "data": {
      "text/plain": [
       "75.0"
      ]
     },
     "execution_count": 19,
     "metadata": {},
     "output_type": "execute_result"
    }
   ],
   "source": [
    "# 95% quantile \n",
    "np.quantile(data.days_in_waiting_list,0.99)"
   ]
  },
  {
   "cell_type": "code",
   "execution_count": 20,
   "id": "b13e7d9d",
   "metadata": {},
   "outputs": [
    {
     "data": {
      "text/plain": [
       "1    602\n",
       "0    576\n",
       "Name: is_canceled, dtype: int64"
      ]
     },
     "execution_count": 20,
     "metadata": {},
     "output_type": "execute_result"
    }
   ],
   "source": [
    "# Target variable for possible outliers\n",
    "data.is_canceled[data.days_in_waiting_list>75].value_counts()"
   ]
  },
  {
   "cell_type": "markdown",
   "id": "2ad0e286",
   "metadata": {},
   "source": [
    "*days_in_waiting_list* is the numbr of days the booking was in the waiting list before it was confirmed to the customer. I would suggest to remove observations with a *days_in_waiting_list* greater than 99-quantile (i.e. 75). They account for 0.98\\% of the data and for the class of interest (canceled) just 0.5\\%."
   ]
  },
  {
   "cell_type": "markdown",
   "id": "9a0b0994",
   "metadata": {},
   "source": [
    "### Customer type"
   ]
  },
  {
   "cell_type": "code",
   "execution_count": 21,
   "id": "82fbcc8e",
   "metadata": {},
   "outputs": [
    {
     "data": {
      "text/plain": [
       "0"
      ]
     },
     "execution_count": 21,
     "metadata": {},
     "output_type": "execute_result"
    }
   ],
   "source": [
    "# Missing values \n",
    "data.customer_type.isna().sum()"
   ]
  },
  {
   "cell_type": "code",
   "execution_count": 22,
   "id": "0db6b03a",
   "metadata": {},
   "outputs": [
    {
     "data": {
      "text/plain": [
       "[Text(0.5, 1.0, 'Customer Type'), Text(0.5, 0, 'customer type')]"
      ]
     },
     "execution_count": 22,
     "metadata": {},
     "output_type": "execute_result"
    },
    {
     "data": {
      "image/png": "[encoded data removed]",
      "text/plain": [
       "<Figure size 842.4x595.44 with 1 Axes>"
      ]
     },
     "metadata": {},
     "output_type": "display_data"
    }
   ],
   "source": [
    "# Distribution \n",
    "data.customer_type.value_counts().plot(kind =\"bar\").set(title='Customer Type',\n",
    "                                                  xlabel = \"customer type\")"
   ]
  },
  {
   "cell_type": "markdown",
   "id": "0496ac28",
   "metadata": {},
   "source": [
    "*customer_type* refers to the type of booking. Only 4 categories are possible. Most of the reservations are *transient* i.e. individuals/families traveling or *transient party* individual reservatiosn that are related. This variable does not need cleaning. "
   ]
  },
  {
   "cell_type": "markdown",
   "id": "ae868135",
   "metadata": {},
   "source": [
    "### adr"
   ]
  },
  {
   "cell_type": "code",
   "execution_count": 23,
   "id": "fd8c267a",
   "metadata": {},
   "outputs": [
    {
     "data": {
      "text/plain": [
       "count    119390.000000\n",
       "mean        101.831122\n",
       "std          50.535790\n",
       "min          -6.380000\n",
       "25%          69.290000\n",
       "50%          94.575000\n",
       "75%         126.000000\n",
       "max        5400.000000\n",
       "Name: adr, dtype: float64"
      ]
     },
     "execution_count": 23,
     "metadata": {},
     "output_type": "execute_result"
    }
   ],
   "source": [
    "# Summary statistics\n",
    "data.adr.describe()"
   ]
  },
  {
   "cell_type": "code",
   "execution_count": 24,
   "id": "a6cf1893",
   "metadata": {},
   "outputs": [
    {
     "data": {
      "text/plain": [
       "0"
      ]
     },
     "execution_count": 24,
     "metadata": {},
     "output_type": "execute_result"
    }
   ],
   "source": [
    "# Missing values \n",
    "data.adr.isna().sum()"
   ]
  },
  {
   "cell_type": "code",
   "execution_count": 25,
   "id": "84e32589",
   "metadata": {},
   "outputs": [
    {
     "data": {
      "text/plain": [
       "[Text(0.5, 1.0, 'Average Daily Price'), Text(0.5, 0, 'Av. daly price')]"
      ]
     },
     "execution_count": 25,
     "metadata": {},
     "output_type": "execute_result"
    },
    {
     "data": {
      "image/png": "[encoded data removed]",
      "text/plain": [
       "<Figure size 842.4x595.44 with 1 Axes>"
      ]
     },
     "metadata": {},
     "output_type": "display_data"
    }
   ],
   "source": [
    "# distribution \n",
    "data.adr.plot(kind = \"hist\").set(title='Average Daily Price',\n",
    "                                                  xlabel = \"Av. daly price\")"
   ]
  },
  {
   "cell_type": "code",
   "execution_count": 26,
   "id": "a1fa713a",
   "metadata": {},
   "outputs": [
    {
     "data": {
      "text/plain": [
       "[Text(0.5, 1.0, 'Distribution Av. Daily Price'),\n",
       " Text(0, 0.5, 'av. daly price')]"
      ]
     },
     "execution_count": 26,
     "metadata": {},
     "output_type": "execute_result"
    },
    {
     "data": {
      "image/png": "[encoded data removed]",
      "text/plain": [
       "<Figure size 842.4x595.44 with 1 Axes>"
      ]
     },
     "metadata": {},
     "output_type": "display_data"
    }
   ],
   "source": [
    "# Boxplot to look for outliers\n",
    "data.boxplot(\"adr\").set(title='Distribution Av. Daily Price', ylabel = \"av. daly price\")"
   ]
  },
  {
   "cell_type": "code",
   "execution_count": 27,
   "id": "0dbd466c",
   "metadata": {},
   "outputs": [
    {
     "name": "stderr",
     "output_type": "stream",
     "text": [
      "/Users/alelli/opt/anaconda3/lib/python3.9/site-packages/pandas/core/arraylike.py:397: RuntimeWarning: invalid value encountered in log\n",
      "  result = getattr(ufunc, method)(*inputs, **kwargs)\n"
     ]
    }
   ],
   "source": [
    "# take logarithms \n",
    "adr_log = np.log(data[\"adr\"]+1)"
   ]
  },
  {
   "cell_type": "code",
   "execution_count": 29,
   "id": "60435e06",
   "metadata": {},
   "outputs": [
    {
     "data": {
      "text/plain": [
       "<AxesSubplot:ylabel='Frequency'>"
      ]
     },
     "execution_count": 29,
     "metadata": {},
     "output_type": "execute_result"
    },
    {
     "data": {
      "image/png": "[encoded data removed]",
      "text/plain": [
       "<Figure size 842.4x595.44 with 1 Axes>"
      ]
     },
     "metadata": {},
     "output_type": "display_data"
    }
   ],
   "source": [
    "adr_log.plot(kind = \"hist\")"
   ]
  },
  {
   "cell_type": "code",
   "execution_count": null,
   "id": "8607ce6e",
   "metadata": {},
   "outputs": [],
   "source": [
    "# number of reservations with negative price \n",
    "len(data.adr[data.adr < 0])"
   ]
  },
  {
   "cell_type": "code",
   "execution_count": null,
   "id": "336c8248",
   "metadata": {},
   "outputs": [],
   "source": [
    "# number of free reservations \n",
    "len(data.adr[data.adr == 0])"
   ]
  },
  {
   "cell_type": "code",
   "execution_count": null,
   "id": "a7fb7912",
   "metadata": {},
   "outputs": [],
   "source": [
    "# number of reservations with price >1000\n",
    "len(data.adr[data.adr > 1000])"
   ]
  },
  {
   "cell_type": "code",
   "execution_count": null,
   "id": "b6442f78",
   "metadata": {},
   "outputs": [],
   "source": [
    "# number of reservations with price greater than third quartile\n",
    "len(data.adr[data.adr>126])"
   ]
  },
  {
   "cell_type": "code",
   "execution_count": null,
   "id": "09b801e8",
   "metadata": {},
   "outputs": [],
   "source": [
    "data[(data[\"adr\"]>126) & (data[\"adr\"]<5400)].adr.plot(kind = \"hist\").set(title='Log(Av. Daily Price)',\n",
    "                                                  xlabel = \"Av. daily price\")"
   ]
  },
  {
   "cell_type": "markdown",
   "id": "d8322281",
   "metadata": {},
   "source": [
    "*adr* is the average daily rate. There are two clear outliers: one room with negative value of -6.38 and one room with price $5,400. I suggest removing these two points. Additionally, there are several observations (29,184) with a price greater than the third quartile. We might want to keep these observations or just some of them. "
   ]
  },
  {
   "cell_type": "markdown",
   "id": "c636db3e",
   "metadata": {},
   "source": [
    "### required_car_parking_spaces "
   ]
  },
  {
   "cell_type": "code",
   "execution_count": null,
   "id": "4f956882",
   "metadata": {},
   "outputs": [],
   "source": [
    "# Summary statistics\n",
    "data.required_car_parking_spaces.describe()"
   ]
  },
  {
   "cell_type": "code",
   "execution_count": null,
   "id": "3a14e313",
   "metadata": {},
   "outputs": [],
   "source": [
    "# Missing values \n",
    "data.required_car_parking_spaces.isna().sum()"
   ]
  },
  {
   "cell_type": "code",
   "execution_count": null,
   "id": "cf389bf9",
   "metadata": {},
   "outputs": [],
   "source": [
    "# Distribution \n",
    "data.required_car_parking_spaces.plot(kind = \"hist\").set(title='Distribution of required car parking spaces',\n",
    "                                                  xlabel = \"car parking spaces\")"
   ]
  },
  {
   "cell_type": "code",
   "execution_count": null,
   "id": "467d6d9a",
   "metadata": {},
   "outputs": [],
   "source": [
    "data.required_car_parking_spaces.value_counts()"
   ]
  },
  {
   "cell_type": "code",
   "execution_count": null,
   "id": "38333b48",
   "metadata": {},
   "outputs": [],
   "source": [
    "data[data[\"required_car_parking_spaces\"] == 8]"
   ]
  },
  {
   "cell_type": "markdown",
   "id": "63e00a96",
   "metadata": {},
   "source": [
    "Most reservations do not need a car. There are only two reservations that asked for 8 parking spaces, they were a \"transient-party\" reservation. None of these two were cancelations. It might be worth it to remove them. "
   ]
  },
  {
   "cell_type": "markdown",
   "id": "fcd3f970",
   "metadata": {},
   "source": [
    "### total_of_special_requests"
   ]
  },
  {
   "cell_type": "code",
   "execution_count": null,
   "id": "7473339b",
   "metadata": {},
   "outputs": [],
   "source": [
    "# summary statistics\n",
    "data.total_of_special_requests.describe()"
   ]
  },
  {
   "cell_type": "code",
   "execution_count": null,
   "id": "94dfffc0",
   "metadata": {},
   "outputs": [],
   "source": [
    "# missing values \n",
    "data.total_of_special_requests.isna().sum()"
   ]
  },
  {
   "cell_type": "code",
   "execution_count": null,
   "id": "2c83604c",
   "metadata": {},
   "outputs": [],
   "source": [
    "# unique values\n",
    "data.total_of_special_requests.value_counts()"
   ]
  },
  {
   "cell_type": "code",
   "execution_count": null,
   "id": "f8e3bdc7",
   "metadata": {},
   "outputs": [],
   "source": [
    "# distribution\n",
    "data.total_of_special_requests.plot(kind = \"hist\").set(title='Disribution of number of special requests',\n",
    "                                                  xlabel = \"number of special requests\")"
   ]
  },
  {
   "cell_type": "markdown",
   "id": "b485a56e",
   "metadata": {},
   "source": [
    "*total_of_special_requests* goes from 0 to 5. The distribution is skewed towards zero but this feature does not need cleaning. "
   ]
  },
  {
   "cell_type": "markdown",
   "id": "98df3eab",
   "metadata": {},
   "source": [
    "### reservation_status"
   ]
  },
  {
   "cell_type": "code",
   "execution_count": null,
   "id": "d614e85c",
   "metadata": {},
   "outputs": [],
   "source": [
    "# summary statistics\n",
    "data.reservation_status.describe()"
   ]
  },
  {
   "cell_type": "code",
   "execution_count": null,
   "id": "0cd8fffc",
   "metadata": {},
   "outputs": [],
   "source": [
    "# missing values \n",
    "data.reservation_status.isna().sum()"
   ]
  },
  {
   "cell_type": "code",
   "execution_count": null,
   "id": "2840a187",
   "metadata": {},
   "outputs": [],
   "source": [
    "# distribution\n",
    "data.reservation_status.value_counts()"
   ]
  },
  {
   "cell_type": "code",
   "execution_count": null,
   "id": "f06531c1",
   "metadata": {},
   "outputs": [],
   "source": [
    "# frequency table combined with is_canceled\n",
    "data.groupby([\"reservation_status\", \"is_canceled\"]).size().reset_index(name = \"Count\")"
   ]
  },
  {
   "cell_type": "markdown",
   "id": "9a8ed739",
   "metadata": {},
   "source": [
    "*reservation_status* is the last status of the reservation (canceled, check-out, no show). All \"canceled\" or \"no-show\" count towards \"is_canceled\". This variable alone does not tell anything. However combined with *reservationstatusdate* could be useful for some feature engineering."
   ]
  },
  {
   "cell_type": "markdown",
   "id": "dea715a4",
   "metadata": {},
   "source": [
    "### reservation_status_date"
   ]
  },
  {
   "cell_type": "code",
   "execution_count": null,
   "id": "a1a8a502",
   "metadata": {},
   "outputs": [],
   "source": [
    "data.reservation_status_date.describe()"
   ]
  },
  {
   "cell_type": "markdown",
   "id": "2053529b",
   "metadata": {},
   "source": [
    "*reservation_status_date* is the date at which the last status was set. Can be used to get the number of days prior to the entry was the reservation canceled. "
   ]
  }
 ],
 "metadata": {
  "kernelspec": {
   "display_name": "Python 3 (ipykernel)",
   "language": "python",
   "name": "python3"
  },
  "language_info": {
   "codemirror_mode": {
    "name": "ipython",
    "version": 3
   },
   "file_extension": ".py",
   "mimetype": "text/x-python",
   "name": "python",
   "nbconvert_exporter": "python",
   "pygments_lexer": "ipython3",
   "version": "3.9.12"
  }
 },
 "nbformat": 4,
 "nbformat_minor": 5
}

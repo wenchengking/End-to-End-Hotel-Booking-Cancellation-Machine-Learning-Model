{
 "cells": [
  {
   "cell_type": "code",
   "execution_count": 1,
   "id": "2a3a4f16",
   "metadata": {},
   "outputs": [],
   "source": [
    "import numpy as np\n",
    "import pandas as pd\n",
    "import matplotlib.pyplot as plt\n",
    "import seaborn as sns\n",
    "\n",
    "import zipfile\n",
    "\n",
    "from sklearn.neural_network import MLPClassifier\n",
    "from sklearn.preprocessing import StandardScaler, OneHotEncoder\n",
    "from sklearn.metrics import roc_auc_score\n",
    "from sklearn.base import clone\n",
    "from sklearn.model_selection import KFold\n",
    "\n",
    "from sklearn.metrics import confusion_matrix\n",
    "from sklearn.metrics import classification_report\n",
    "from sklearn.model_selection import RepeatedKFold,GridSearchCV"
   ]
  },
  {
   "cell_type": "code",
   "execution_count": 2,
   "id": "be855793",
   "metadata": {},
   "outputs": [],
   "source": [
    "## Reading the csv file directly from the zip file without extracting it\n",
    "\n",
    "archive = zipfile.ZipFile('../02_Data/hotel_bookings_ohe.csv.zip', 'r')\n",
    "files = archive.namelist()\n",
    "with archive.open(files[0]) as csvfile:   \n",
    "    df = pd.read_csv(csvfile)"
   ]
  },
  {
   "cell_type": "code",
   "execution_count": 3,
   "id": "f10fe279",
   "metadata": {},
   "outputs": [
    {
     "data": {
      "text/html": [
       "<div>\n",
       "<style scoped>\n",
       "    .dataframe tbody tr th:only-of-type {\n",
       "        vertical-align: middle;\n",
       "    }\n",
       "\n",
       "    .dataframe tbody tr th {\n",
       "        vertical-align: top;\n",
       "    }\n",
       "\n",
       "    .dataframe thead th {\n",
       "        text-align: right;\n",
       "    }\n",
       "</style>\n",
       "<table border=\"1\" class=\"dataframe\">\n",
       "  <thead>\n",
       "    <tr style=\"text-align: right;\">\n",
       "      <th></th>\n",
       "      <th>arrival_date_year</th>\n",
       "      <th>adults</th>\n",
       "      <th>children</th>\n",
       "      <th>babies</th>\n",
       "      <th>previous_cancellations</th>\n",
       "      <th>booking_changes</th>\n",
       "      <th>total_of_special_requests</th>\n",
       "      <th>log_lead_time</th>\n",
       "      <th>total_nights</th>\n",
       "      <th>previous_bookings</th>\n",
       "      <th>...</th>\n",
       "      <th>market_segment_Online TA</th>\n",
       "      <th>market_segment_Undefined</th>\n",
       "      <th>meal_BB</th>\n",
       "      <th>meal_FB</th>\n",
       "      <th>meal_HB</th>\n",
       "      <th>meal_SC</th>\n",
       "      <th>meal_Undefined</th>\n",
       "      <th>required_car_parking_0</th>\n",
       "      <th>required_car_parking_1</th>\n",
       "      <th>is_canceled</th>\n",
       "    </tr>\n",
       "  </thead>\n",
       "  <tbody>\n",
       "    <tr>\n",
       "      <th>0</th>\n",
       "      <td>2015</td>\n",
       "      <td>2</td>\n",
       "      <td>0</td>\n",
       "      <td>0</td>\n",
       "      <td>0</td>\n",
       "      <td>3</td>\n",
       "      <td>0</td>\n",
       "      <td>5.837730</td>\n",
       "      <td>0</td>\n",
       "      <td>0</td>\n",
       "      <td>...</td>\n",
       "      <td>0</td>\n",
       "      <td>0</td>\n",
       "      <td>1</td>\n",
       "      <td>0</td>\n",
       "      <td>0</td>\n",
       "      <td>0</td>\n",
       "      <td>0</td>\n",
       "      <td>1</td>\n",
       "      <td>0</td>\n",
       "      <td>0</td>\n",
       "    </tr>\n",
       "    <tr>\n",
       "      <th>1</th>\n",
       "      <td>2015</td>\n",
       "      <td>2</td>\n",
       "      <td>0</td>\n",
       "      <td>0</td>\n",
       "      <td>0</td>\n",
       "      <td>4</td>\n",
       "      <td>0</td>\n",
       "      <td>6.603944</td>\n",
       "      <td>0</td>\n",
       "      <td>0</td>\n",
       "      <td>...</td>\n",
       "      <td>0</td>\n",
       "      <td>0</td>\n",
       "      <td>1</td>\n",
       "      <td>0</td>\n",
       "      <td>0</td>\n",
       "      <td>0</td>\n",
       "      <td>0</td>\n",
       "      <td>1</td>\n",
       "      <td>0</td>\n",
       "      <td>0</td>\n",
       "    </tr>\n",
       "    <tr>\n",
       "      <th>2</th>\n",
       "      <td>2015</td>\n",
       "      <td>1</td>\n",
       "      <td>0</td>\n",
       "      <td>0</td>\n",
       "      <td>0</td>\n",
       "      <td>0</td>\n",
       "      <td>0</td>\n",
       "      <td>2.079442</td>\n",
       "      <td>1</td>\n",
       "      <td>0</td>\n",
       "      <td>...</td>\n",
       "      <td>0</td>\n",
       "      <td>0</td>\n",
       "      <td>1</td>\n",
       "      <td>0</td>\n",
       "      <td>0</td>\n",
       "      <td>0</td>\n",
       "      <td>0</td>\n",
       "      <td>1</td>\n",
       "      <td>0</td>\n",
       "      <td>0</td>\n",
       "    </tr>\n",
       "    <tr>\n",
       "      <th>3</th>\n",
       "      <td>2015</td>\n",
       "      <td>1</td>\n",
       "      <td>0</td>\n",
       "      <td>0</td>\n",
       "      <td>0</td>\n",
       "      <td>0</td>\n",
       "      <td>0</td>\n",
       "      <td>2.639057</td>\n",
       "      <td>1</td>\n",
       "      <td>0</td>\n",
       "      <td>...</td>\n",
       "      <td>0</td>\n",
       "      <td>0</td>\n",
       "      <td>1</td>\n",
       "      <td>0</td>\n",
       "      <td>0</td>\n",
       "      <td>0</td>\n",
       "      <td>0</td>\n",
       "      <td>1</td>\n",
       "      <td>0</td>\n",
       "      <td>0</td>\n",
       "    </tr>\n",
       "    <tr>\n",
       "      <th>4</th>\n",
       "      <td>2015</td>\n",
       "      <td>2</td>\n",
       "      <td>0</td>\n",
       "      <td>0</td>\n",
       "      <td>0</td>\n",
       "      <td>0</td>\n",
       "      <td>1</td>\n",
       "      <td>2.708050</td>\n",
       "      <td>2</td>\n",
       "      <td>0</td>\n",
       "      <td>...</td>\n",
       "      <td>1</td>\n",
       "      <td>0</td>\n",
       "      <td>1</td>\n",
       "      <td>0</td>\n",
       "      <td>0</td>\n",
       "      <td>0</td>\n",
       "      <td>0</td>\n",
       "      <td>1</td>\n",
       "      <td>0</td>\n",
       "      <td>0</td>\n",
       "    </tr>\n",
       "  </tbody>\n",
       "</table>\n",
       "<p>5 rows × 66 columns</p>\n",
       "</div>"
      ],
      "text/plain": [
       "   arrival_date_year  adults  children  babies  previous_cancellations  \\\n",
       "0               2015       2         0       0                       0   \n",
       "1               2015       2         0       0                       0   \n",
       "2               2015       1         0       0                       0   \n",
       "3               2015       1         0       0                       0   \n",
       "4               2015       2         0       0                       0   \n",
       "\n",
       "   booking_changes  total_of_special_requests  log_lead_time  total_nights  \\\n",
       "0                3                          0       5.837730             0   \n",
       "1                4                          0       6.603944             0   \n",
       "2                0                          0       2.079442             1   \n",
       "3                0                          0       2.639057             1   \n",
       "4                0                          1       2.708050             2   \n",
       "\n",
       "   previous_bookings  ...  market_segment_Online TA  market_segment_Undefined  \\\n",
       "0                  0  ...                         0                         0   \n",
       "1                  0  ...                         0                         0   \n",
       "2                  0  ...                         0                         0   \n",
       "3                  0  ...                         0                         0   \n",
       "4                  0  ...                         1                         0   \n",
       "\n",
       "   meal_BB  meal_FB  meal_HB  meal_SC  meal_Undefined  required_car_parking_0  \\\n",
       "0        1        0        0        0               0                       1   \n",
       "1        1        0        0        0               0                       1   \n",
       "2        1        0        0        0               0                       1   \n",
       "3        1        0        0        0               0                       1   \n",
       "4        1        0        0        0               0                       1   \n",
       "\n",
       "   required_car_parking_1  is_canceled  \n",
       "0                       0            0  \n",
       "1                       0            0  \n",
       "2                       0            0  \n",
       "3                       0            0  \n",
       "4                       0            0  \n",
       "\n",
       "[5 rows x 66 columns]"
      ]
     },
     "execution_count": 3,
     "metadata": {},
     "output_type": "execute_result"
    }
   ],
   "source": [
    "df.head(5)"
   ]
  },
  {
   "cell_type": "code",
   "execution_count": 8,
   "id": "2f0566c3",
   "metadata": {},
   "outputs": [
    {
     "name": "stdout",
     "output_type": "stream",
     "text": [
      "<class 'pandas.core.frame.DataFrame'>\n",
      "RangeIndex: 119388 entries, 0 to 119387\n",
      "Data columns (total 66 columns):\n",
      " #   Column                         Non-Null Count   Dtype  \n",
      "---  ------                         --------------   -----  \n",
      " 0   arrival_date_year              119388 non-null  int64  \n",
      " 1   adults                         119388 non-null  int64  \n",
      " 2   children                       119388 non-null  int64  \n",
      " 3   babies                         119388 non-null  int64  \n",
      " 4   previous_cancellations         119388 non-null  int64  \n",
      " 5   booking_changes                119388 non-null  int64  \n",
      " 6   total_of_special_requests      119388 non-null  int64  \n",
      " 7   log_lead_time                  119388 non-null  float64\n",
      " 8   total_nights                   119388 non-null  int64  \n",
      " 9   previous_bookings              119388 non-null  int64  \n",
      " 10  log_days_in_waiting_list       119388 non-null  float64\n",
      " 11  log_adr                        119388 non-null  float64\n",
      " 12  arrival_month_1                119388 non-null  int64  \n",
      " 13  arrival_month_2                119388 non-null  int64  \n",
      " 14  arrival_month_3                119388 non-null  int64  \n",
      " 15  arrival_month_4                119388 non-null  int64  \n",
      " 16  arrival_month_5                119388 non-null  int64  \n",
      " 17  arrival_month_6                119388 non-null  int64  \n",
      " 18  arrival_month_7                119388 non-null  int64  \n",
      " 19  arrival_month_8                119388 non-null  int64  \n",
      " 20  arrival_month_9                119388 non-null  int64  \n",
      " 21  arrival_month_10               119388 non-null  int64  \n",
      " 22  arrival_month_11               119388 non-null  int64  \n",
      " 23  arrival_month_12               119388 non-null  int64  \n",
      " 24  booked_by_agent_no             119388 non-null  int64  \n",
      " 25  booked_by_agent_yes            119388 non-null  int64  \n",
      " 26  booked_by_company_0            119388 non-null  int64  \n",
      " 27  booked_by_company_1            119388 non-null  int64  \n",
      " 28  continent_Africa               119388 non-null  int64  \n",
      " 29  continent_Americas             119388 non-null  int64  \n",
      " 30  continent_Antarctica           119388 non-null  int64  \n",
      " 31  continent_Asia                 119388 non-null  int64  \n",
      " 32  continent_Europe               119388 non-null  int64  \n",
      " 33  continent_Oceania              119388 non-null  int64  \n",
      " 34  continent_unknown              119388 non-null  int64  \n",
      " 35  customer_type_Contract         119388 non-null  int64  \n",
      " 36  customer_type_Group            119388 non-null  int64  \n",
      " 37  customer_type_Transient        119388 non-null  int64  \n",
      " 38  customer_type_Transient-Party  119388 non-null  int64  \n",
      " 39  deposit_type_No Deposit        119388 non-null  int64  \n",
      " 40  deposit_type_Non Refund        119388 non-null  int64  \n",
      " 41  deposit_type_Refundable        119388 non-null  int64  \n",
      " 42  domestic_domestic              119388 non-null  int64  \n",
      " 43  domestic_international         119388 non-null  int64  \n",
      " 44  got_room_booked_0              119388 non-null  int64  \n",
      " 45  got_room_booked_1              119388 non-null  int64  \n",
      " 46  hotel_City Hotel               119388 non-null  int64  \n",
      " 47  hotel_Resort Hotel             119388 non-null  int64  \n",
      " 48  is_repeated_guest_0            119388 non-null  int64  \n",
      " 49  is_repeated_guest_1            119388 non-null  int64  \n",
      " 50  market_segment_Aviation        119388 non-null  int64  \n",
      " 51  market_segment_Complementary   119388 non-null  int64  \n",
      " 52  market_segment_Corporate       119388 non-null  int64  \n",
      " 53  market_segment_Direct          119388 non-null  int64  \n",
      " 54  market_segment_Groups          119388 non-null  int64  \n",
      " 55  market_segment_Offline TA/TO   119388 non-null  int64  \n",
      " 56  market_segment_Online TA       119388 non-null  int64  \n",
      " 57  market_segment_Undefined       119388 non-null  int64  \n",
      " 58  meal_BB                        119388 non-null  int64  \n",
      " 59  meal_FB                        119388 non-null  int64  \n",
      " 60  meal_HB                        119388 non-null  int64  \n",
      " 61  meal_SC                        119388 non-null  int64  \n",
      " 62  meal_Undefined                 119388 non-null  int64  \n",
      " 63  required_car_parking_0         119388 non-null  int64  \n",
      " 64  required_car_parking_1         119388 non-null  int64  \n",
      " 65  is_canceled                    119388 non-null  int64  \n",
      "dtypes: float64(3), int64(63)\n",
      "memory usage: 60.1 MB\n"
     ]
    }
   ],
   "source": [
    "df.info()"
   ]
  },
  {
   "cell_type": "code",
   "execution_count": 3,
   "id": "d0880933",
   "metadata": {},
   "outputs": [],
   "source": [
    "numerical_cols = ['arrival_date_year', 'adults', 'children', 'babies',\n",
    "       'previous_cancellations', 'booking_changes',\n",
    "       'total_of_special_requests', 'log_lead_time', 'total_nights',\n",
    "       'previous_bookings', 'log_days_in_waiting_list', 'log_adr']\n",
    "\n",
    "cat_cols = [col for col in df.columns if col not in numerical_cols]\n"
   ]
  },
  {
   "cell_type": "code",
   "execution_count": 4,
   "id": "85aa5d2e",
   "metadata": {},
   "outputs": [],
   "source": [
    "# get train indexes\n",
    "train_ind = pd.read_csv(\"../02_Data/train_index.csv\")\n",
    "\n",
    "# split train\n",
    "train = df.iloc[train_ind.Train_Index,:]\n",
    "train.reset_index(inplace = True, drop = True)\n",
    "\n",
    "# Split test \n",
    "test = df.iloc[df.index.difference(train_ind.Train_Index),:]"
   ]
  },
  {
   "cell_type": "code",
   "execution_count": 5,
   "id": "ad3a0886",
   "metadata": {},
   "outputs": [],
   "source": [
    "## Standardising the numerical columns\n",
    "df_train_std = train.copy()\n",
    "df_test_std = test.copy()\n",
    "\n",
    "sc = StandardScaler().fit(df_train_std[numerical_cols])\n",
    "df_train_std[numerical_cols] = sc.transform(df_train_std[numerical_cols])\n",
    " \n",
    "df_test_std[numerical_cols] = sc.transform(df_test_std[numerical_cols])"
   ]
  },
  {
   "cell_type": "markdown",
   "id": "33b2f277",
   "metadata": {},
   "source": [
    "### Fitting a neural network model with all features"
   ]
  },
  {
   "cell_type": "code",
   "execution_count": 6,
   "id": "02f03ccf",
   "metadata": {},
   "outputs": [],
   "source": [
    "## Creating the X and y variables\n",
    "\n",
    "X_train = df_train_std.drop(\"is_canceled\",axis=1)\n",
    "y_train = df_train_std[\"is_canceled\"]\n",
    "\n",
    "X_test = df_test_std.drop(\"is_canceled\",axis=1)\n",
    "y_test = df_test_std[\"is_canceled\"]"
   ]
  },
  {
   "cell_type": "code",
   "execution_count": 7,
   "id": "48248fb6",
   "metadata": {},
   "outputs": [
    {
     "data": {
      "text/plain": [
       "MLPClassifier(activation='logistic', batch_size=512, hidden_layer_sizes=20,\n",
       "              learning_rate_init=0.01, max_iter=300, random_state=456)"
      ]
     },
     "execution_count": 7,
     "metadata": {},
     "output_type": "execute_result"
    }
   ],
   "source": [
    "# define a neural network model with stochastic optimizer\n",
    "np.random.seed(456)\n",
    "\n",
    "clf_init = MLPClassifier(\n",
    "    ## archiecture hyperparameters ## \n",
    "    hidden_layer_sizes=20, # scalar -> single hidden layer with 20 units\n",
    "    activation='logistic', # activation function for the hidden layer\n",
    "    alpha=1e-4,# regularization parameter,\n",
    "    solver='adam', # stochastic optimizer (default)\n",
    "    learning_rate_init=0.01,# learning rate, controls the step size\n",
    "    batch_size=512, # the number of samples considered in each iteration\n",
    "    max_iter = 300, # number of epochs through the training set,\n",
    "    #early_stopping=True, # monitor validation_loss and stop if there is no improvement\n",
    "    #n_iter_no_change=10, # if validation loss doesn't improve for 10 epochs, terminate optimization\n",
    "    #validation_fraction=0.1, # fraction of the dataset to set as aside as validation data\n",
    "    verbose=False,\n",
    "    random_state=456\n",
    ")\n",
    "\n",
    "# fit model\n",
    "clf_init.fit(X_train,y_train)"
   ]
  },
  {
   "cell_type": "code",
   "execution_count": 9,
   "id": "8bcca383",
   "metadata": {},
   "outputs": [],
   "source": [
    "y_pred_class = clf_init.predict(X_test)"
   ]
  },
  {
   "cell_type": "code",
   "execution_count": 10,
   "id": "0597c95d",
   "metadata": {},
   "outputs": [
    {
     "name": "stdout",
     "output_type": "stream",
     "text": [
      "AUC score is  0.8502906891407417\n",
      "Misclass rate is  0.13364325501528668\n",
      "\n",
      "--- EVALUATION METRICS ---:\n",
      "\n",
      "Confusion Matrix:\n",
      "[[13724  1325]\n",
      " [ 1866  6962]]\n",
      "\n",
      "Classification Report:\n",
      "              precision    recall  f1-score   support\n",
      "\n",
      "           0       0.88      0.91      0.90     15049\n",
      "           1       0.84      0.79      0.81      8828\n",
      "\n",
      "    accuracy                           0.87     23877\n",
      "   macro avg       0.86      0.85      0.85     23877\n",
      "weighted avg       0.87      0.87      0.87     23877\n",
      "\n"
     ]
    }
   ],
   "source": [
    "## Calculating the roc\n",
    "\n",
    "conf_matrix = confusion_matrix(y_test, y_pred_class)\n",
    "\n",
    "\n",
    "print('AUC score is ',roc_auc_score(y_test,y_pred_class))\n",
    "misclass = (conf_matrix[0][1]+conf_matrix[1][0])/(sum(sum(conf_matrix)))\n",
    "print('Misclass rate is ',misclass)\n",
    "\n",
    "# --- Metrics---\n",
    "\n",
    "print('\\n--- EVALUATION METRICS ---:')\n",
    "print('\\nConfusion Matrix:')\n",
    "print(conf_matrix)\n",
    "\n",
    "print('\\nClassification Report:')\n",
    "\n",
    "print(classification_report(y_test,y_pred_class))\n"
   ]
  },
  {
   "cell_type": "markdown",
   "id": "b811da1f",
   "metadata": {},
   "source": [
    "### Performing Gridsearch CV"
   ]
  },
  {
   "cell_type": "code",
   "execution_count": 7,
   "id": "6efc7863",
   "metadata": {},
   "outputs": [
    {
     "name": "stdout",
     "output_type": "stream",
     "text": [
      "Fitting 5 folds for each of 27 candidates, totalling 135 fits\n",
      "[CV 1/5] END alpha=0.0001, hidden_layer_sizes=10, learning_rate_init=0.001;, score=0.856 total time=  14.5s\n",
      "[CV 2/5] END alpha=0.0001, hidden_layer_sizes=10, learning_rate_init=0.001;, score=0.856 total time=  19.6s\n",
      "[CV 3/5] END alpha=0.0001, hidden_layer_sizes=10, learning_rate_init=0.001;, score=0.857 total time=  13.4s\n",
      "[CV 4/5] END alpha=0.0001, hidden_layer_sizes=10, learning_rate_init=0.001;, score=0.861 total time=  12.1s\n",
      "[CV 5/5] END alpha=0.0001, hidden_layer_sizes=10, learning_rate_init=0.001;, score=0.857 total time=  13.1s\n",
      "[CV 1/5] END alpha=0.0001, hidden_layer_sizes=10, learning_rate_init=0.01;, score=0.860 total time=   7.4s\n",
      "[CV 2/5] END alpha=0.0001, hidden_layer_sizes=10, learning_rate_init=0.01;, score=0.859 total time=   9.6s\n",
      "[CV 3/5] END alpha=0.0001, hidden_layer_sizes=10, learning_rate_init=0.01;, score=0.857 total time=   7.9s\n",
      "[CV 4/5] END alpha=0.0001, hidden_layer_sizes=10, learning_rate_init=0.01;, score=0.861 total time=   5.7s\n",
      "[CV 5/5] END alpha=0.0001, hidden_layer_sizes=10, learning_rate_init=0.01;, score=0.859 total time=   6.4s\n",
      "[CV 1/5] END alpha=0.0001, hidden_layer_sizes=10, learning_rate_init=0.1;, score=0.854 total time=   3.1s\n",
      "[CV 2/5] END alpha=0.0001, hidden_layer_sizes=10, learning_rate_init=0.1;, score=0.851 total time=   2.7s\n",
      "[CV 3/5] END alpha=0.0001, hidden_layer_sizes=10, learning_rate_init=0.1;, score=0.852 total time=   2.0s\n",
      "[CV 4/5] END alpha=0.0001, hidden_layer_sizes=10, learning_rate_init=0.1;, score=0.857 total time=   2.1s\n",
      "[CV 5/5] END alpha=0.0001, hidden_layer_sizes=10, learning_rate_init=0.1;, score=0.856 total time=   2.5s\n",
      "[CV 1/5] END alpha=0.0001, hidden_layer_sizes=20, learning_rate_init=0.001;, score=0.862 total time=  21.8s\n",
      "[CV 2/5] END alpha=0.0001, hidden_layer_sizes=20, learning_rate_init=0.001;, score=0.861 total time=  22.6s\n",
      "[CV 3/5] END alpha=0.0001, hidden_layer_sizes=20, learning_rate_init=0.001;, score=0.863 total time=  29.3s\n",
      "[CV 4/5] END alpha=0.0001, hidden_layer_sizes=20, learning_rate_init=0.001;, score=0.864 total time=  36.4s\n",
      "[CV 5/5] END alpha=0.0001, hidden_layer_sizes=20, learning_rate_init=0.001;, score=0.863 total time=  29.8s\n",
      "[CV 1/5] END alpha=0.0001, hidden_layer_sizes=20, learning_rate_init=0.01;, score=0.862 total time=  13.9s\n",
      "[CV 2/5] END alpha=0.0001, hidden_layer_sizes=20, learning_rate_init=0.01;, score=0.862 total time=  15.2s\n",
      "[CV 3/5] END alpha=0.0001, hidden_layer_sizes=20, learning_rate_init=0.01;, score=0.863 total time=  15.0s\n",
      "[CV 4/5] END alpha=0.0001, hidden_layer_sizes=20, learning_rate_init=0.01;, score=0.868 total time=  16.3s\n",
      "[CV 5/5] END alpha=0.0001, hidden_layer_sizes=20, learning_rate_init=0.01;, score=0.864 total time=  12.3s\n",
      "[CV 1/5] END alpha=0.0001, hidden_layer_sizes=20, learning_rate_init=0.1;, score=0.860 total time=   3.9s\n",
      "[CV 2/5] END alpha=0.0001, hidden_layer_sizes=20, learning_rate_init=0.1;, score=0.853 total time=   5.5s\n",
      "[CV 3/5] END alpha=0.0001, hidden_layer_sizes=20, learning_rate_init=0.1;, score=0.856 total time=   5.3s\n",
      "[CV 4/5] END alpha=0.0001, hidden_layer_sizes=20, learning_rate_init=0.1;, score=0.861 total time=   6.2s\n",
      "[CV 5/5] END alpha=0.0001, hidden_layer_sizes=20, learning_rate_init=0.1;, score=0.860 total time=   5.5s\n",
      "[CV 1/5] END alpha=0.0001, hidden_layer_sizes=30, learning_rate_init=0.001;, score=0.864 total time=  45.8s\n",
      "[CV 2/5] END alpha=0.0001, hidden_layer_sizes=30, learning_rate_init=0.001;, score=0.863 total time=  35.3s\n",
      "[CV 3/5] END alpha=0.0001, hidden_layer_sizes=30, learning_rate_init=0.001;, score=0.863 total time=  43.7s\n",
      "[CV 4/5] END alpha=0.0001, hidden_layer_sizes=30, learning_rate_init=0.001;, score=0.868 total time=  36.9s\n",
      "[CV 5/5] END alpha=0.0001, hidden_layer_sizes=30, learning_rate_init=0.001;, score=0.865 total time=  37.1s\n",
      "[CV 1/5] END alpha=0.0001, hidden_layer_sizes=30, learning_rate_init=0.01;, score=0.863 total time=  20.1s\n",
      "[CV 2/5] END alpha=0.0001, hidden_layer_sizes=30, learning_rate_init=0.01;, score=0.861 total time=  14.1s\n",
      "[CV 3/5] END alpha=0.0001, hidden_layer_sizes=30, learning_rate_init=0.01;, score=0.863 total time=  21.0s\n",
      "[CV 4/5] END alpha=0.0001, hidden_layer_sizes=30, learning_rate_init=0.01;, score=0.865 total time=  20.8s\n",
      "[CV 5/5] END alpha=0.0001, hidden_layer_sizes=30, learning_rate_init=0.01;, score=0.867 total time=  12.9s\n",
      "[CV 1/5] END alpha=0.0001, hidden_layer_sizes=30, learning_rate_init=0.1;, score=0.862 total time=   4.5s\n",
      "[CV 2/5] END alpha=0.0001, hidden_layer_sizes=30, learning_rate_init=0.1;, score=0.857 total time=   8.8s\n",
      "[CV 3/5] END alpha=0.0001, hidden_layer_sizes=30, learning_rate_init=0.1;, score=0.858 total time=   4.6s\n",
      "[CV 4/5] END alpha=0.0001, hidden_layer_sizes=30, learning_rate_init=0.1;, score=0.862 total time=   9.5s\n",
      "[CV 5/5] END alpha=0.0001, hidden_layer_sizes=30, learning_rate_init=0.1;, score=0.860 total time=   6.5s\n",
      "[CV 1/5] END alpha=0.001, hidden_layer_sizes=10, learning_rate_init=0.001;, score=0.856 total time=  19.5s\n",
      "[CV 2/5] END alpha=0.001, hidden_layer_sizes=10, learning_rate_init=0.001;, score=0.857 total time=  20.7s\n",
      "[CV 3/5] END alpha=0.001, hidden_layer_sizes=10, learning_rate_init=0.001;, score=0.857 total time=  18.7s\n",
      "[CV 4/5] END alpha=0.001, hidden_layer_sizes=10, learning_rate_init=0.001;, score=0.862 total time=  17.4s\n",
      "[CV 5/5] END alpha=0.001, hidden_layer_sizes=10, learning_rate_init=0.001;, score=0.856 total time=  18.9s\n",
      "[CV 1/5] END alpha=0.001, hidden_layer_sizes=10, learning_rate_init=0.01;, score=0.860 total time=   8.5s\n",
      "[CV 2/5] END alpha=0.001, hidden_layer_sizes=10, learning_rate_init=0.01;, score=0.855 total time=  12.0s\n",
      "[CV 3/5] END alpha=0.001, hidden_layer_sizes=10, learning_rate_init=0.01;, score=0.855 total time=   7.2s\n",
      "[CV 4/5] END alpha=0.001, hidden_layer_sizes=10, learning_rate_init=0.01;, score=0.861 total time=   6.4s\n",
      "[CV 5/5] END alpha=0.001, hidden_layer_sizes=10, learning_rate_init=0.01;, score=0.859 total time=   9.9s\n",
      "[CV 1/5] END alpha=0.001, hidden_layer_sizes=10, learning_rate_init=0.1;, score=0.855 total time=   5.4s\n",
      "[CV 2/5] END alpha=0.001, hidden_layer_sizes=10, learning_rate_init=0.1;, score=0.856 total time=   4.5s\n",
      "[CV 3/5] END alpha=0.001, hidden_layer_sizes=10, learning_rate_init=0.1;, score=0.852 total time=   4.0s\n",
      "[CV 4/5] END alpha=0.001, hidden_layer_sizes=10, learning_rate_init=0.1;, score=0.855 total time=   3.4s\n",
      "[CV 5/5] END alpha=0.001, hidden_layer_sizes=10, learning_rate_init=0.1;, score=0.851 total time=   3.2s\n",
      "[CV 1/5] END alpha=0.001, hidden_layer_sizes=20, learning_rate_init=0.001;, score=0.862 total time=  32.3s\n",
      "[CV 2/5] END alpha=0.001, hidden_layer_sizes=20, learning_rate_init=0.001;, score=0.862 total time=  29.8s\n",
      "[CV 3/5] END alpha=0.001, hidden_layer_sizes=20, learning_rate_init=0.001;, score=0.863 total time=  35.6s\n",
      "[CV 4/5] END alpha=0.001, hidden_layer_sizes=20, learning_rate_init=0.001;, score=0.864 total time=  40.8s\n",
      "[CV 5/5] END alpha=0.001, hidden_layer_sizes=20, learning_rate_init=0.001;, score=0.862 total time=  33.4s\n",
      "[CV 1/5] END alpha=0.001, hidden_layer_sizes=20, learning_rate_init=0.01;, score=0.864 total time=  16.2s\n",
      "[CV 2/5] END alpha=0.001, hidden_layer_sizes=20, learning_rate_init=0.01;, score=0.862 total time=  12.1s\n",
      "[CV 3/5] END alpha=0.001, hidden_layer_sizes=20, learning_rate_init=0.01;, score=0.862 total time=  16.0s\n",
      "[CV 4/5] END alpha=0.001, hidden_layer_sizes=20, learning_rate_init=0.01;, score=0.866 total time=  12.6s\n",
      "[CV 5/5] END alpha=0.001, hidden_layer_sizes=20, learning_rate_init=0.01;, score=0.864 total time=  14.6s\n",
      "[CV 1/5] END alpha=0.001, hidden_layer_sizes=20, learning_rate_init=0.1;, score=0.851 total time=   4.8s\n",
      "[CV 2/5] END alpha=0.001, hidden_layer_sizes=20, learning_rate_init=0.1;, score=0.857 total time=   3.0s\n",
      "[CV 3/5] END alpha=0.001, hidden_layer_sizes=20, learning_rate_init=0.1;, score=0.855 total time=   3.6s\n",
      "[CV 4/5] END alpha=0.001, hidden_layer_sizes=20, learning_rate_init=0.1;, score=0.863 total time=   9.4s\n",
      "[CV 5/5] END alpha=0.001, hidden_layer_sizes=20, learning_rate_init=0.1;, score=0.856 total time=   3.9s\n",
      "[CV 1/5] END alpha=0.001, hidden_layer_sizes=30, learning_rate_init=0.001;, score=0.864 total time=  40.0s\n",
      "[CV 2/5] END alpha=0.001, hidden_layer_sizes=30, learning_rate_init=0.001;, score=0.863 total time=  33.8s\n"
     ]
    },
    {
     "name": "stdout",
     "output_type": "stream",
     "text": [
      "[CV 3/5] END alpha=0.001, hidden_layer_sizes=30, learning_rate_init=0.001;, score=0.864 total time=  41.1s\n",
      "[CV 4/5] END alpha=0.001, hidden_layer_sizes=30, learning_rate_init=0.001;, score=0.868 total time=  33.5s\n",
      "[CV 5/5] END alpha=0.001, hidden_layer_sizes=30, learning_rate_init=0.001;, score=0.866 total time=  45.3s\n",
      "[CV 1/5] END alpha=0.001, hidden_layer_sizes=30, learning_rate_init=0.01;, score=0.861 total time=  19.2s\n",
      "[CV 2/5] END alpha=0.001, hidden_layer_sizes=30, learning_rate_init=0.01;, score=0.861 total time=  24.5s\n",
      "[CV 3/5] END alpha=0.001, hidden_layer_sizes=30, learning_rate_init=0.01;, score=0.864 total time=  26.4s\n",
      "[CV 4/5] END alpha=0.001, hidden_layer_sizes=30, learning_rate_init=0.01;, score=0.864 total time=  15.5s\n",
      "[CV 5/5] END alpha=0.001, hidden_layer_sizes=30, learning_rate_init=0.01;, score=0.867 total time=  17.5s\n",
      "[CV 1/5] END alpha=0.001, hidden_layer_sizes=30, learning_rate_init=0.1;, score=0.858 total time=   5.0s\n",
      "[CV 2/5] END alpha=0.001, hidden_layer_sizes=30, learning_rate_init=0.1;, score=0.855 total time=   5.8s\n",
      "[CV 3/5] END alpha=0.001, hidden_layer_sizes=30, learning_rate_init=0.1;, score=0.856 total time=   4.3s\n",
      "[CV 4/5] END alpha=0.001, hidden_layer_sizes=30, learning_rate_init=0.1;, score=0.858 total time=   8.6s\n",
      "[CV 5/5] END alpha=0.001, hidden_layer_sizes=30, learning_rate_init=0.1;, score=0.858 total time=   5.5s\n",
      "[CV 1/5] END alpha=0.1, hidden_layer_sizes=10, learning_rate_init=0.001;, score=0.853 total time=  18.5s\n",
      "[CV 2/5] END alpha=0.1, hidden_layer_sizes=10, learning_rate_init=0.001;, score=0.850 total time=  18.9s\n",
      "[CV 3/5] END alpha=0.1, hidden_layer_sizes=10, learning_rate_init=0.001;, score=0.855 total time=  18.1s\n",
      "[CV 4/5] END alpha=0.1, hidden_layer_sizes=10, learning_rate_init=0.001;, score=0.857 total time=  17.4s\n",
      "[CV 5/5] END alpha=0.1, hidden_layer_sizes=10, learning_rate_init=0.001;, score=0.854 total time=  18.9s\n",
      "[CV 1/5] END alpha=0.1, hidden_layer_sizes=10, learning_rate_init=0.01;, score=0.853 total time=   4.6s\n",
      "[CV 2/5] END alpha=0.1, hidden_layer_sizes=10, learning_rate_init=0.01;, score=0.851 total time=   8.0s\n",
      "[CV 3/5] END alpha=0.1, hidden_layer_sizes=10, learning_rate_init=0.01;, score=0.853 total time=   6.7s\n",
      "[CV 4/5] END alpha=0.1, hidden_layer_sizes=10, learning_rate_init=0.01;, score=0.860 total time=   7.4s\n",
      "[CV 5/5] END alpha=0.1, hidden_layer_sizes=10, learning_rate_init=0.01;, score=0.853 total time=   5.6s\n",
      "[CV 1/5] END alpha=0.1, hidden_layer_sizes=10, learning_rate_init=0.1;, score=0.830 total time=   2.5s\n",
      "[CV 2/5] END alpha=0.1, hidden_layer_sizes=10, learning_rate_init=0.1;, score=0.837 total time=   3.8s\n",
      "[CV 3/5] END alpha=0.1, hidden_layer_sizes=10, learning_rate_init=0.1;, score=0.844 total time=   6.9s\n",
      "[CV 4/5] END alpha=0.1, hidden_layer_sizes=10, learning_rate_init=0.1;, score=0.848 total time=   5.1s\n",
      "[CV 5/5] END alpha=0.1, hidden_layer_sizes=10, learning_rate_init=0.1;, score=0.844 total time=   2.7s\n",
      "[CV 1/5] END alpha=0.1, hidden_layer_sizes=20, learning_rate_init=0.001;, score=0.856 total time=  21.7s\n",
      "[CV 2/5] END alpha=0.1, hidden_layer_sizes=20, learning_rate_init=0.001;, score=0.855 total time=  22.3s\n",
      "[CV 3/5] END alpha=0.1, hidden_layer_sizes=20, learning_rate_init=0.001;, score=0.857 total time=  21.3s\n",
      "[CV 4/5] END alpha=0.1, hidden_layer_sizes=20, learning_rate_init=0.001;, score=0.862 total time=  27.2s\n",
      "[CV 5/5] END alpha=0.1, hidden_layer_sizes=20, learning_rate_init=0.001;, score=0.858 total time=  24.9s\n",
      "[CV 1/5] END alpha=0.1, hidden_layer_sizes=20, learning_rate_init=0.01;, score=0.855 total time=   9.7s\n",
      "[CV 2/5] END alpha=0.1, hidden_layer_sizes=20, learning_rate_init=0.01;, score=0.854 total time=   5.9s\n",
      "[CV 3/5] END alpha=0.1, hidden_layer_sizes=20, learning_rate_init=0.01;, score=0.857 total time=   9.0s\n",
      "[CV 4/5] END alpha=0.1, hidden_layer_sizes=20, learning_rate_init=0.01;, score=0.860 total time=  10.2s\n",
      "[CV 5/5] END alpha=0.1, hidden_layer_sizes=20, learning_rate_init=0.01;, score=0.858 total time=   7.8s\n",
      "[CV 1/5] END alpha=0.1, hidden_layer_sizes=20, learning_rate_init=0.1;, score=0.843 total time=   2.6s\n",
      "[CV 2/5] END alpha=0.1, hidden_layer_sizes=20, learning_rate_init=0.1;, score=0.841 total time=   4.2s\n",
      "[CV 3/5] END alpha=0.1, hidden_layer_sizes=20, learning_rate_init=0.1;, score=0.846 total time=   5.2s\n",
      "[CV 4/5] END alpha=0.1, hidden_layer_sizes=20, learning_rate_init=0.1;, score=0.845 total time=   4.9s\n",
      "[CV 5/5] END alpha=0.1, hidden_layer_sizes=20, learning_rate_init=0.1;, score=0.833 total time=   4.5s\n",
      "[CV 1/5] END alpha=0.1, hidden_layer_sizes=30, learning_rate_init=0.001;, score=0.858 total time=  36.1s\n",
      "[CV 2/5] END alpha=0.1, hidden_layer_sizes=30, learning_rate_init=0.001;, score=0.855 total time=  24.8s\n",
      "[CV 3/5] END alpha=0.1, hidden_layer_sizes=30, learning_rate_init=0.001;, score=0.859 total time=  31.6s\n",
      "[CV 4/5] END alpha=0.1, hidden_layer_sizes=30, learning_rate_init=0.001;, score=0.862 total time=  30.3s\n",
      "[CV 5/5] END alpha=0.1, hidden_layer_sizes=30, learning_rate_init=0.001;, score=0.858 total time=  25.1s\n",
      "[CV 1/5] END alpha=0.1, hidden_layer_sizes=30, learning_rate_init=0.01;, score=0.852 total time=  10.2s\n",
      "[CV 2/5] END alpha=0.1, hidden_layer_sizes=30, learning_rate_init=0.01;, score=0.851 total time=   9.3s\n",
      "[CV 3/5] END alpha=0.1, hidden_layer_sizes=30, learning_rate_init=0.01;, score=0.857 total time=   6.9s\n",
      "[CV 4/5] END alpha=0.1, hidden_layer_sizes=30, learning_rate_init=0.01;, score=0.860 total time=   7.6s\n",
      "[CV 5/5] END alpha=0.1, hidden_layer_sizes=30, learning_rate_init=0.01;, score=0.861 total time=  10.6s\n",
      "[CV 1/5] END alpha=0.1, hidden_layer_sizes=30, learning_rate_init=0.1;, score=0.840 total time=   6.6s\n",
      "[CV 2/5] END alpha=0.1, hidden_layer_sizes=30, learning_rate_init=0.1;, score=0.842 total time=   8.1s\n",
      "[CV 3/5] END alpha=0.1, hidden_layer_sizes=30, learning_rate_init=0.1;, score=0.830 total time=   3.0s\n",
      "[CV 4/5] END alpha=0.1, hidden_layer_sizes=30, learning_rate_init=0.1;, score=0.847 total time=   3.0s\n",
      "[CV 5/5] END alpha=0.1, hidden_layer_sizes=30, learning_rate_init=0.1;, score=0.841 total time=   4.2s\n"
     ]
    }
   ],
   "source": [
    "np.random.seed(3)\n",
    "\n",
    "clf_cv_init = MLPClassifier(\n",
    "    ## archiecture hyperparameters ## \n",
    "    #hidden_layer_sizes=20, # scalar -> single hidden layer with 20 units\n",
    "    activation='logistic', # activation function for the hidden layer\n",
    "    #alpha=1e-4,# regularization parameter,\n",
    "    solver='adam', # stochastic optimizer (default)\n",
    "    #learning_rate_init=0.01,# learning rate, controls the step size\n",
    "    batch_size=512, # the number of samples considered in each iteration\n",
    "    max_iter = 500, # number of epochs through the training set,\n",
    "    #early_stopping=True, # monitor validation_loss and stop if there is no improvement\n",
    "    #n_iter_no_change=10, # if validation loss doesn't improve for 10 epochs, terminate optimization\n",
    "    #validation_fraction=0.1, # fraction of the dataset to set as aside as validation data,\n",
    "    random_state=3,\n",
    "    verbose=False\n",
    ")\n",
    "\n",
    "clf_final = GridSearchCV(\n",
    "    estimator = clf_cv_init,\n",
    "    param_grid = { # dictionary containing possible values of each hyperparameter\n",
    "        'alpha':[1e-4,1e-3,1e-1],\n",
    "        'hidden_layer_sizes':[10,20,30],\n",
    "        'learning_rate_init':[1e-3,1e-2,1e-1]\n",
    "    },\n",
    "    scoring='accuracy', # scoring metric - prediction accuracy\n",
    "    refit=True,\n",
    "    cv = KFold(n_splits=5,shuffle=True), # 1 replicate of 5-fold CV\n",
    "    verbose=3\n",
    ").fit(X_train,y_train)"
   ]
  },
  {
   "cell_type": "code",
   "execution_count": 8,
   "id": "cb568354",
   "metadata": {},
   "outputs": [
    {
     "name": "stdout",
     "output_type": "stream",
     "text": [
      "Best parameters\n",
      "{'alpha': 0.001, 'hidden_layer_sizes': 30, 'learning_rate_init': 0.001}\n",
      "Best CV accuracy: 0.865\n"
     ]
    }
   ],
   "source": [
    "print('Best parameters')\n",
    "print(clf_final.best_params_)\n",
    "\n",
    "print('Best CV accuracy: %.3f'%clf_final.best_score_)"
   ]
  },
  {
   "cell_type": "code",
   "execution_count": 9,
   "id": "56850aac",
   "metadata": {},
   "outputs": [
    {
     "name": "stdout",
     "output_type": "stream",
     "text": [
      "AUC score is  0.8490308414954887\n",
      "Misclass rate is  0.13322444193156593\n",
      "\n",
      "--- EVALUATION METRICS ---:\n",
      "\n",
      "Confusion Matrix:\n",
      "[[13802  1247]\n",
      " [ 1934  6894]]\n",
      "\n",
      "Classification Report:\n",
      "              precision    recall  f1-score   support\n",
      "\n",
      "           0       0.88      0.92      0.90     15049\n",
      "           1       0.85      0.78      0.81      8828\n",
      "\n",
      "    accuracy                           0.87     23877\n",
      "   macro avg       0.86      0.85      0.85     23877\n",
      "weighted avg       0.87      0.87      0.87     23877\n",
      "\n"
     ]
    }
   ],
   "source": [
    "### Testing with test dataset\n",
    "\n",
    "y_pred_class = clf_final.predict(X_test)\n",
    "\n",
    "## Calculating the roc\n",
    "\n",
    "conf_matrix = confusion_matrix(y_test, y_pred_class)\n",
    "\n",
    "\n",
    "print('AUC score is ',roc_auc_score(y_test,y_pred_class))\n",
    "misclass = (conf_matrix[0][1]+conf_matrix[1][0])/(sum(sum(conf_matrix)))\n",
    "print('Misclass rate is ',misclass)\n",
    "\n",
    "# --- Metrics---\n",
    "\n",
    "print('\\n--- EVALUATION METRICS ---:')\n",
    "print('\\nConfusion Matrix:')\n",
    "print(conf_matrix)\n",
    "\n",
    "print('\\nClassification Report:')\n",
    "\n",
    "print(classification_report(y_test,y_pred_class))\n"
   ]
  },
  {
   "cell_type": "markdown",
   "id": "d8f13fce",
   "metadata": {},
   "source": [
    "### Second trial with increasing nodes"
   ]
  },
  {
   "cell_type": "code",
   "execution_count": 10,
   "id": "a4174455",
   "metadata": {},
   "outputs": [
    {
     "name": "stdout",
     "output_type": "stream",
     "text": [
      "Fitting 5 folds for each of 12 candidates, totalling 60 fits\n",
      "[CV 1/5] END alpha=0.001, hidden_layer_sizes=30;, score=0.864 total time=  36.2s\n",
      "[CV 2/5] END alpha=0.001, hidden_layer_sizes=30;, score=0.863 total time=  31.0s\n",
      "[CV 3/5] END alpha=0.001, hidden_layer_sizes=30;, score=0.864 total time=  38.1s\n",
      "[CV 4/5] END alpha=0.001, hidden_layer_sizes=30;, score=0.868 total time=  30.5s\n",
      "[CV 5/5] END alpha=0.001, hidden_layer_sizes=30;, score=0.866 total time=  32.2s\n",
      "[CV 1/5] END alpha=0.001, hidden_layer_sizes=40;, score=0.867 total time=  46.9s\n",
      "[CV 2/5] END alpha=0.001, hidden_layer_sizes=40;, score=0.865 total time=  58.8s\n",
      "[CV 3/5] END alpha=0.001, hidden_layer_sizes=40;, score=0.864 total time= 1.0min\n",
      "[CV 4/5] END alpha=0.001, hidden_layer_sizes=40;, score=0.869 total time= 1.1min\n",
      "[CV 5/5] END alpha=0.001, hidden_layer_sizes=40;, score=0.870 total time= 1.1min\n",
      "[CV 1/5] END alpha=0.001, hidden_layer_sizes=50;, score=0.869 total time= 1.5min\n",
      "[CV 2/5] END alpha=0.001, hidden_layer_sizes=50;, score=0.865 total time= 1.1min\n",
      "[CV 3/5] END alpha=0.001, hidden_layer_sizes=50;, score=0.865 total time= 1.2min\n",
      "[CV 4/5] END alpha=0.001, hidden_layer_sizes=50;, score=0.871 total time=  59.7s\n",
      "[CV 5/5] END alpha=0.001, hidden_layer_sizes=50;, score=0.869 total time= 1.1min\n",
      "[CV 1/5] END alpha=0.005, hidden_layer_sizes=30;, score=0.863 total time= 1.1min\n",
      "[CV 2/5] END alpha=0.005, hidden_layer_sizes=30;, score=0.863 total time=  30.5s\n",
      "[CV 3/5] END alpha=0.005, hidden_layer_sizes=30;, score=0.864 total time=  38.5s\n",
      "[CV 4/5] END alpha=0.005, hidden_layer_sizes=30;, score=0.868 total time=  37.9s\n",
      "[CV 5/5] END alpha=0.005, hidden_layer_sizes=30;, score=0.866 total time=  58.5s\n",
      "[CV 1/5] END alpha=0.005, hidden_layer_sizes=40;, score=0.866 total time=  53.0s\n",
      "[CV 2/5] END alpha=0.005, hidden_layer_sizes=40;, score=0.864 total time=  46.9s\n",
      "[CV 3/5] END alpha=0.005, hidden_layer_sizes=40;, score=0.867 total time=  52.8s\n",
      "[CV 4/5] END alpha=0.005, hidden_layer_sizes=40;, score=0.869 total time= 1.0min\n",
      "[CV 5/5] END alpha=0.005, hidden_layer_sizes=40;, score=0.867 total time=  41.9s\n",
      "[CV 1/5] END alpha=0.005, hidden_layer_sizes=50;, score=0.867 total time=  55.1s\n",
      "[CV 2/5] END alpha=0.005, hidden_layer_sizes=50;, score=0.864 total time=  59.2s\n",
      "[CV 3/5] END alpha=0.005, hidden_layer_sizes=50;, score=0.866 total time= 1.3min\n",
      "[CV 4/5] END alpha=0.005, hidden_layer_sizes=50;, score=0.868 total time= 1.1min\n",
      "[CV 5/5] END alpha=0.005, hidden_layer_sizes=50;, score=0.868 total time= 1.1min\n",
      "[CV 1/5] END ..alpha=0.1, hidden_layer_sizes=30;, score=0.858 total time=  31.3s\n",
      "[CV 2/5] END ..alpha=0.1, hidden_layer_sizes=30;, score=0.855 total time=  20.4s\n",
      "[CV 3/5] END ..alpha=0.1, hidden_layer_sizes=30;, score=0.859 total time=  29.3s\n",
      "[CV 4/5] END ..alpha=0.1, hidden_layer_sizes=30;, score=0.862 total time=  27.3s\n",
      "[CV 5/5] END ..alpha=0.1, hidden_layer_sizes=30;, score=0.858 total time=  24.5s\n",
      "[CV 1/5] END ..alpha=0.1, hidden_layer_sizes=40;, score=0.858 total time=  32.2s\n",
      "[CV 2/5] END ..alpha=0.1, hidden_layer_sizes=40;, score=0.856 total time=  43.4s\n",
      "[CV 3/5] END ..alpha=0.1, hidden_layer_sizes=40;, score=0.856 total time=  27.5s\n",
      "[CV 4/5] END ..alpha=0.1, hidden_layer_sizes=40;, score=0.863 total time=  32.5s\n",
      "[CV 5/5] END ..alpha=0.1, hidden_layer_sizes=40;, score=0.859 total time=  28.7s\n",
      "[CV 1/5] END ..alpha=0.1, hidden_layer_sizes=50;, score=0.857 total time=  35.4s\n",
      "[CV 2/5] END ..alpha=0.1, hidden_layer_sizes=50;, score=0.854 total time=  32.3s\n",
      "[CV 3/5] END ..alpha=0.1, hidden_layer_sizes=50;, score=0.857 total time=  44.7s\n",
      "[CV 4/5] END ..alpha=0.1, hidden_layer_sizes=50;, score=0.861 total time=  37.0s\n",
      "[CV 5/5] END ..alpha=0.1, hidden_layer_sizes=50;, score=0.860 total time=  40.7s\n",
      "[CV 1/5] END ..alpha=0.2, hidden_layer_sizes=30;, score=0.853 total time=  27.1s\n",
      "[CV 2/5] END ..alpha=0.2, hidden_layer_sizes=30;, score=0.851 total time=  19.1s\n",
      "[CV 3/5] END ..alpha=0.2, hidden_layer_sizes=30;, score=0.851 total time=  23.1s\n",
      "[CV 4/5] END ..alpha=0.2, hidden_layer_sizes=30;, score=0.857 total time=  21.1s\n",
      "[CV 5/5] END ..alpha=0.2, hidden_layer_sizes=30;, score=0.853 total time=  22.0s\n",
      "[CV 1/5] END ..alpha=0.2, hidden_layer_sizes=40;, score=0.850 total time=  14.8s\n",
      "[CV 2/5] END ..alpha=0.2, hidden_layer_sizes=40;, score=0.849 total time=  20.1s\n",
      "[CV 3/5] END ..alpha=0.2, hidden_layer_sizes=40;, score=0.849 total time=  23.5s\n",
      "[CV 4/5] END ..alpha=0.2, hidden_layer_sizes=40;, score=0.857 total time=  17.9s\n",
      "[CV 5/5] END ..alpha=0.2, hidden_layer_sizes=40;, score=0.848 total time=  15.9s\n",
      "[CV 1/5] END ..alpha=0.2, hidden_layer_sizes=50;, score=0.850 total time=  35.1s\n",
      "[CV 2/5] END ..alpha=0.2, hidden_layer_sizes=50;, score=0.845 total time=  26.7s\n",
      "[CV 3/5] END ..alpha=0.2, hidden_layer_sizes=50;, score=0.852 total time=  25.6s\n",
      "[CV 4/5] END ..alpha=0.2, hidden_layer_sizes=50;, score=0.856 total time=  28.9s\n",
      "[CV 5/5] END ..alpha=0.2, hidden_layer_sizes=50;, score=0.849 total time=  24.7s\n"
     ]
    }
   ],
   "source": [
    "## Second batch\n",
    "\n",
    "np.random.seed(3)\n",
    "\n",
    "clf_cv_init = MLPClassifier(\n",
    "    ## archiecture hyperparameters ## \n",
    "    #hidden_layer_sizes=20, # scalar -> single hidden layer with 20 units\n",
    "    activation='logistic', # activation function for the hidden layer\n",
    "    #alpha=1e-4,# regularization parameter,\n",
    "    solver='adam', # stochastic optimizer (default)\n",
    "    learning_rate_init=0.001,# learning rate, controls the step size\n",
    "    batch_size=512, # the number of samples considered in each iteration\n",
    "    max_iter = 500, # number of epochs through the training set,\n",
    "    #early_stopping=True, # monitor validation_loss and stop if there is no improvement\n",
    "    #n_iter_no_change=10, # if validation loss doesn't improve for 10 epochs, terminate optimization\n",
    "    #validation_fraction=0.1, # fraction of the dataset to set as aside as validation data,\n",
    "    random_state=3,\n",
    "    verbose=False\n",
    ")\n",
    "\n",
    "clf_final_2 = GridSearchCV(\n",
    "    estimator = clf_cv_init,\n",
    "    param_grid = { # dictionary containing possible values of each hyperparameter\n",
    "        'alpha':[1e-3,0.005,1e-1,0.2],\n",
    "        'hidden_layer_sizes':[30,40,50],\n",
    "    },\n",
    "    scoring='accuracy', # scoring metric - prediction accuracy\n",
    "    refit=True,\n",
    "    cv = KFold(n_splits=5,shuffle=True), # 1 replicate of 5-fold CV\n",
    "    verbose=3\n",
    ").fit(X_train,y_train)"
   ]
  },
  {
   "cell_type": "code",
   "execution_count": 12,
   "id": "b332aa5c",
   "metadata": {},
   "outputs": [
    {
     "name": "stdout",
     "output_type": "stream",
     "text": [
      "Best parameters\n",
      "{'alpha': 0.001, 'hidden_layer_sizes': 50}\n",
      "Best CV accuracy: 0.868\n"
     ]
    }
   ],
   "source": [
    "print('Best parameters')\n",
    "print(clf_final_2.best_params_)\n",
    "\n",
    "print('Best CV accuracy: %.3f'%clf_final_2.best_score_)"
   ]
  },
  {
   "cell_type": "code",
   "execution_count": 13,
   "id": "205228c0",
   "metadata": {},
   "outputs": [
    {
     "name": "stdout",
     "output_type": "stream",
     "text": [
      "AUC score is  0.8593324674211049\n",
      "Misclass rate is  0.12752858399296393\n",
      "\n",
      "--- EVALUATION METRICS ---:\n",
      "\n",
      "Confusion Matrix:\n",
      "[[13691  1358]\n",
      " [ 1687  7141]]\n",
      "\n",
      "Classification Report:\n",
      "              precision    recall  f1-score   support\n",
      "\n",
      "           0       0.89      0.91      0.90     15049\n",
      "           1       0.84      0.81      0.82      8828\n",
      "\n",
      "    accuracy                           0.87     23877\n",
      "   macro avg       0.87      0.86      0.86     23877\n",
      "weighted avg       0.87      0.87      0.87     23877\n",
      "\n"
     ]
    }
   ],
   "source": [
    "### Testing with test dataset\n",
    "\n",
    "y_pred_class = clf_final_2.predict(X_test)\n",
    "\n",
    "## Calculating the roc\n",
    "\n",
    "conf_matrix = confusion_matrix(y_test, y_pred_class)\n",
    "\n",
    "\n",
    "print('AUC score is ',roc_auc_score(y_test,y_pred_class))\n",
    "misclass = (conf_matrix[0][1]+conf_matrix[1][0])/(sum(sum(conf_matrix)))\n",
    "print('Misclass rate is ',misclass)\n",
    "\n",
    "# --- Metrics---\n",
    "\n",
    "print('\\n--- EVALUATION METRICS ---:')\n",
    "print('\\nConfusion Matrix:')\n",
    "print(conf_matrix)\n",
    "\n",
    "print('\\nClassification Report:')\n",
    "\n",
    "print(classification_report(y_test,y_pred_class))\n"
   ]
  },
  {
   "cell_type": "markdown",
   "id": "b652fd14",
   "metadata": {},
   "source": [
    "### Third try with increasing number of Nodes"
   ]
  },
  {
   "cell_type": "code",
   "execution_count": 7,
   "id": "647ef6cc",
   "metadata": {},
   "outputs": [
    {
     "name": "stdout",
     "output_type": "stream",
     "text": [
      "Fitting 5 folds for each of 3 candidates, totalling 15 fits\n",
      "[CV 1/5] END .............hidden_layer_sizes=60;, score=0.866 total time= 1.3min\n",
      "[CV 2/5] END .............hidden_layer_sizes=60;, score=0.867 total time=  59.5s\n",
      "[CV 3/5] END .............hidden_layer_sizes=60;, score=0.867 total time= 1.3min\n",
      "[CV 4/5] END .............hidden_layer_sizes=60;, score=0.868 total time= 1.4min\n",
      "[CV 5/5] END .............hidden_layer_sizes=60;, score=0.869 total time= 1.4min\n",
      "[CV 1/5] END .............hidden_layer_sizes=70;, score=0.868 total time= 2.8min\n",
      "[CV 2/5] END .............hidden_layer_sizes=70;, score=0.865 total time= 1.3min\n",
      "[CV 3/5] END .............hidden_layer_sizes=70;, score=0.868 total time= 2.1min\n",
      "[CV 4/5] END .............hidden_layer_sizes=70;, score=0.867 total time= 1.8min\n",
      "[CV 5/5] END .............hidden_layer_sizes=70;, score=0.873 total time= 1.6min\n",
      "[CV 1/5] END .............hidden_layer_sizes=80;, score=0.870 total time= 1.9min\n",
      "[CV 2/5] END .............hidden_layer_sizes=80;, score=0.866 total time= 2.3min\n",
      "[CV 3/5] END .............hidden_layer_sizes=80;, score=0.866 total time= 1.7min\n",
      "[CV 4/5] END .............hidden_layer_sizes=80;, score=0.872 total time= 1.7min\n",
      "[CV 5/5] END .............hidden_layer_sizes=80;, score=0.872 total time= 1.5min\n"
     ]
    }
   ],
   "source": [
    "## Third batch\n",
    "\n",
    "np.random.seed(3)\n",
    "\n",
    "clf_cv_init = MLPClassifier(\n",
    "    ## archiecture hyperparameters ## \n",
    "    #hidden_layer_sizes=20, # scalar -> single hidden layer with 20 units\n",
    "    activation='logistic', # activation function for the hidden layer\n",
    "    alpha=0.001,# regularization parameter,\n",
    "    solver='adam', # stochastic optimizer (default)\n",
    "    learning_rate_init=0.001,# learning rate, controls the step size\n",
    "    batch_size=512, # the number of samples considered in each iteration\n",
    "    max_iter = 1000, # number of epochs through the training set,\n",
    "    #early_stopping=True, # monitor validation_loss and stop if there is no improvement\n",
    "    #n_iter_no_change=10, # if validation loss doesn't improve for 10 epochs, terminate optimization\n",
    "    #validation_fraction=0.1, # fraction of the dataset to set as aside as validation data,\n",
    "    random_state=3,\n",
    "    verbose=False\n",
    ")\n",
    "\n",
    "clf_final_3 = GridSearchCV(\n",
    "    estimator = clf_cv_init,\n",
    "    param_grid = { # dictionary containing possible values of each hyperparameter\n",
    "        'hidden_layer_sizes':[60,70,80]\n",
    "    },\n",
    "    scoring='accuracy', # scoring metric - prediction accuracy\n",
    "    refit=True,\n",
    "    cv = KFold(n_splits=5,shuffle=True), # 1 replicate of 5-fold CV\n",
    "    verbose=3\n",
    ").fit(X_train,y_train)"
   ]
  },
  {
   "cell_type": "code",
   "execution_count": 8,
   "id": "acd0a969",
   "metadata": {},
   "outputs": [
    {
     "name": "stdout",
     "output_type": "stream",
     "text": [
      "Best parameters\n",
      "{'hidden_layer_sizes': 80}\n",
      "Best CV accuracy: 0.869\n"
     ]
    }
   ],
   "source": [
    "print('Best parameters')\n",
    "print(clf_final_3.best_params_)\n",
    "\n",
    "print('Best CV accuracy: %.3f'%clf_final_3.best_score_)"
   ]
  },
  {
   "cell_type": "code",
   "execution_count": 9,
   "id": "62df130b",
   "metadata": {},
   "outputs": [
    {
     "name": "stdout",
     "output_type": "stream",
     "text": [
      "AUC score is  0.8616541612758539\n",
      "Misclass rate is  0.12761234660970808\n",
      "\n",
      "--- EVALUATION METRICS ---:\n",
      "\n",
      "Confusion Matrix:\n",
      "[[13587  1462]\n",
      " [ 1585  7243]]\n",
      "\n",
      "Classification Report:\n",
      "              precision    recall  f1-score   support\n",
      "\n",
      "           0       0.90      0.90      0.90     15049\n",
      "           1       0.83      0.82      0.83      8828\n",
      "\n",
      "    accuracy                           0.87     23877\n",
      "   macro avg       0.86      0.86      0.86     23877\n",
      "weighted avg       0.87      0.87      0.87     23877\n",
      "\n"
     ]
    }
   ],
   "source": [
    "### Testing with test dataset\n",
    "\n",
    "y_pred_class = clf_final_3.predict(X_test)\n",
    "\n",
    "## Calculating the roc\n",
    "\n",
    "conf_matrix = confusion_matrix(y_test, y_pred_class)\n",
    "\n",
    "\n",
    "print('AUC score is ',roc_auc_score(y_test,y_pred_class))\n",
    "misclass = (conf_matrix[0][1]+conf_matrix[1][0])/(sum(sum(conf_matrix)))\n",
    "print('Misclass rate is ',misclass)\n",
    "\n",
    "# --- Metrics---\n",
    "\n",
    "print('\\n--- EVALUATION METRICS ---:')\n",
    "print('\\nConfusion Matrix:')\n",
    "print(conf_matrix)\n",
    "\n",
    "print('\\nClassification Report:')\n",
    "\n",
    "print(classification_report(y_test,y_pred_class))\n"
   ]
  },
  {
   "cell_type": "markdown",
   "id": "a745bf0f",
   "metadata": {},
   "source": [
    "There is no considerable difference between a neural network of size 80 and 50. So we choose the network with the parameters {'learning_rate':0.001,'alpha': 0.001, 'hidden_layer_sizes': 50} as the best model"
   ]
  },
  {
   "cell_type": "markdown",
   "id": "3de76d07",
   "metadata": {},
   "source": [
    "### Fitting the final model"
   ]
  },
  {
   "cell_type": "code",
   "execution_count": 11,
   "id": "b7bf9c90",
   "metadata": {},
   "outputs": [
    {
     "data": {
      "text/plain": [
       "MLPClassifier(activation='logistic', alpha=0.001, batch_size=512,\n",
       "              hidden_layer_sizes=50, max_iter=500, random_state=3)"
      ]
     },
     "execution_count": 11,
     "metadata": {},
     "output_type": "execute_result"
    }
   ],
   "source": [
    "## Second batch\n",
    "\n",
    "np.random.seed(3)\n",
    "\n",
    "clf_mlp_v1 = MLPClassifier(\n",
    "    ## archiecture hyperparameters ## \n",
    "    hidden_layer_sizes=50, # scalar -> single hidden layer with 20 units\n",
    "    activation='logistic', # activation function for the hidden layer\n",
    "    alpha=0.001,# regularization parameter,\n",
    "    solver='adam', # stochastic optimizer (default)\n",
    "    learning_rate_init=0.001,# learning rate, controls the step size\n",
    "    batch_size=512, # the number of samples considered in each iteration\n",
    "    max_iter = 500, # number of epochs through the training set,\n",
    "    #early_stopping=True, # monitor validation_loss and stop if there is no improvement\n",
    "    #n_iter_no_change=10, # if validation loss doesn't improve for 10 epochs, terminate optimization\n",
    "    #validation_fraction=0.1, # fraction of the dataset to set as aside as validation data,\n",
    "    random_state=3,\n",
    "    verbose=False\n",
    ")\n",
    "\n",
    "clf_mlp_v1.fit(X_train,y_train)"
   ]
  },
  {
   "cell_type": "code",
   "execution_count": 12,
   "id": "1069ff82",
   "metadata": {},
   "outputs": [
    {
     "name": "stdout",
     "output_type": "stream",
     "text": [
      "AUC score is  0.8593324674211049\n",
      "Misclass rate is  0.12752858399296393\n",
      "\n",
      "--- EVALUATION METRICS ---:\n",
      "\n",
      "Confusion Matrix:\n",
      "[[13691  1358]\n",
      " [ 1687  7141]]\n",
      "\n",
      "Classification Report:\n",
      "              precision    recall  f1-score   support\n",
      "\n",
      "           0       0.89      0.91      0.90     15049\n",
      "           1       0.84      0.81      0.82      8828\n",
      "\n",
      "    accuracy                           0.87     23877\n",
      "   macro avg       0.87      0.86      0.86     23877\n",
      "weighted avg       0.87      0.87      0.87     23877\n",
      "\n"
     ]
    }
   ],
   "source": [
    "### Testing with test dataset\n",
    "\n",
    "y_pred_class = clf_mlp_v1.predict(X_test)\n",
    "\n",
    "## Calculating the roc\n",
    "\n",
    "conf_matrix = confusion_matrix(y_test, y_pred_class)\n",
    "\n",
    "\n",
    "print('AUC score is ',roc_auc_score(y_test,y_pred_class))\n",
    "misclass = (conf_matrix[0][1]+conf_matrix[1][0])/(sum(sum(conf_matrix)))\n",
    "print('Misclass rate is ',misclass)\n",
    "\n",
    "# --- Metrics---\n",
    "\n",
    "print('\\n--- EVALUATION METRICS ---:')\n",
    "print('\\nConfusion Matrix:')\n",
    "print(conf_matrix)\n",
    "\n",
    "print('\\nClassification Report:')\n",
    "\n",
    "print(classification_report(y_test,y_pred_class))\n"
   ]
  },
  {
   "cell_type": "markdown",
   "id": "7f79387c",
   "metadata": {},
   "source": [
    "### Creating ALE plots"
   ]
  },
  {
   "cell_type": "code",
   "execution_count": 13,
   "id": "0cd90e38",
   "metadata": {},
   "outputs": [],
   "source": [
    "import sys\n",
    "sys.path.append('../05_Modeling/ale_utils.py')"
   ]
  },
  {
   "cell_type": "code",
   "execution_count": 14,
   "id": "98d20231",
   "metadata": {},
   "outputs": [],
   "source": [
    "#!pip install git+https://github.com/MaximeJumelle/ALEPython.git@dev#egg=alepython\n",
    "\n",
    "from ale_utils import first_order_aleplot_quant # first order ALE plots\n",
    "from functools import partial\n",
    "\n",
    "def log_odds(X,model):\n",
    "    '''\n",
    "    Function that returns the log-odds from a binary classifer \n",
    "    implementing scikit-learn like API for computing class \n",
    "    probabilities\n",
    "    '''\n",
    "    p_hat = model.predict_proba(X)[:,1]\n",
    "    return np.log(p_hat)-np.log(1-p_hat)\n",
    "\n",
    "# function with the model argument fixed\n",
    "log_odds_nnet = partial(log_odds,model=clf_init)"
   ]
  },
  {
   "cell_type": "code",
   "execution_count": 17,
   "id": "0a0cef20",
   "metadata": {},
   "outputs": [
    {
     "data": {
      "image/png": "[encoded data removed]",
      "text/plain": [
       "<Figure size 864x648 with 12 Axes>"
      ]
     },
     "metadata": {
      "needs_background": "light"
     },
     "output_type": "display_data"
    }
   ],
   "source": [
    "# 9 predictors, plotting in a 3x3 grid\n",
    "num_rows=4\n",
    "num_cols=3\n",
    "fig,axs = plt.subplots(num_rows,num_cols,figsize=(12,9))\n",
    "features = [\"arrival_date_year\",\"adults\",\"children\",\"babies\",\n",
    "           \"previous_cancellations\",\"booking_changes\",\"total_of_special_requests\",\n",
    "          \"log_lead_time\",\"total_nights\",\"previous_bookings\",'log_days_in_waiting_list',\n",
    "           'log_adr']\n",
    "for i in range(num_rows):\n",
    "    for j in range(num_cols):\n",
    "        # select correct feature\n",
    "        feature = features[num_cols*i + j]\n",
    "        _ = first_order_aleplot_quant(log_odds_nnet,X_train,feature,bins=50,ax=axs[i,j])\n",
    "\n",
    "fig.tight_layout()"
   ]
  },
  {
   "cell_type": "markdown",
   "id": "2cc4fc7f",
   "metadata": {},
   "source": [
    "The ranges of values of each numerical feature are\n",
    "\n",
    "a) arrival_date_year -> 0.2 <br>\n",
    "b) adults -> 2 <br>\n",
    "c) children -> 0.4 <br>\n",
    "d) babies -> 0 <br>\n",
    "e) previous_cancellations -> 7.5 <br>\n",
    "f) booking_changes ->0.6 <br>\n",
    "g) total_of_special_requests -> 1 <br>\n",
    "h) log_lead_time -> 3 <br>\n",
    "i) total_nights -> 0.75 <br>\n",
    "j) previous_bookings -> 3 <br>\n",
    "h) log_days_in_waiting_list -> 0.6 <br>\n",
    "i) log_adr -> 2 <br>\n",
    "\n",
    "\n",
    "Babies, children and arrival_date_year do not seem to have a significant effect on the final value. Thus we can consider removing them. log_days_in_waiting_list and booking_changes have a low range but booking changes seem to have a non-linear relationship and log_days_in_waiting_list have closer ticks. So we keep these columns."
   ]
  },
  {
   "cell_type": "markdown",
   "id": "d23e4caa",
   "metadata": {},
   "source": [
    "## Final iteration"
   ]
  },
  {
   "cell_type": "code",
   "execution_count": 24,
   "id": "7baacb1d",
   "metadata": {},
   "outputs": [
    {
     "name": "stdout",
     "output_type": "stream",
     "text": [
      "Fitting 5 folds for each of 3 candidates, totalling 15 fits\n",
      "[CV 1/5] END .............hidden_layer_sizes=30;, score=0.857 total time=  31.9s\n",
      "[CV 2/5] END .............hidden_layer_sizes=30;, score=0.858 total time=  37.3s\n",
      "[CV 3/5] END .............hidden_layer_sizes=30;, score=0.858 total time=  34.6s\n",
      "[CV 4/5] END .............hidden_layer_sizes=30;, score=0.860 total time=  36.5s\n",
      "[CV 5/5] END .............hidden_layer_sizes=30;, score=0.858 total time=  37.4s\n",
      "[CV 1/5] END .............hidden_layer_sizes=50;, score=0.862 total time= 6.0min\n"
     ]
    },
    {
     "name": "stderr",
     "output_type": "stream",
     "text": [
      "/Users/kiranjyothisheena/opt/anaconda3/lib/python3.9/site-packages/sklearn/neural_network/_multilayer_perceptron.py:692: ConvergenceWarning: Stochastic Optimizer: Maximum iterations (500) reached and the optimization hasn't converged yet.\n",
      "  warnings.warn(\n"
     ]
    },
    {
     "name": "stdout",
     "output_type": "stream",
     "text": [
      "[CV 2/5] END .............hidden_layer_sizes=50;, score=0.860 total time= 1.0min\n",
      "[CV 3/5] END .............hidden_layer_sizes=50;, score=0.859 total time=  53.0s\n",
      "[CV 4/5] END .............hidden_layer_sizes=50;, score=0.862 total time=  52.1s\n",
      "[CV 5/5] END .............hidden_layer_sizes=50;, score=0.862 total time=  58.1s\n",
      "[CV 1/5] END .............hidden_layer_sizes=70;, score=0.864 total time= 1.2min\n",
      "[CV 2/5] END .............hidden_layer_sizes=70;, score=0.859 total time= 1.3min\n"
     ]
    },
    {
     "name": "stderr",
     "output_type": "stream",
     "text": [
      "/Users/kiranjyothisheena/opt/anaconda3/lib/python3.9/site-packages/sklearn/neural_network/_multilayer_perceptron.py:692: ConvergenceWarning: Stochastic Optimizer: Maximum iterations (500) reached and the optimization hasn't converged yet.\n",
      "  warnings.warn(\n"
     ]
    },
    {
     "name": "stdout",
     "output_type": "stream",
     "text": [
      "[CV 3/5] END .............hidden_layer_sizes=70;, score=0.861 total time= 4.0min\n",
      "[CV 4/5] END .............hidden_layer_sizes=70;, score=0.863 total time= 1.2min\n"
     ]
    },
    {
     "name": "stderr",
     "output_type": "stream",
     "text": [
      "/Users/kiranjyothisheena/opt/anaconda3/lib/python3.9/site-packages/sklearn/neural_network/_multilayer_perceptron.py:692: ConvergenceWarning: Stochastic Optimizer: Maximum iterations (500) reached and the optimization hasn't converged yet.\n",
      "  warnings.warn(\n"
     ]
    },
    {
     "name": "stdout",
     "output_type": "stream",
     "text": [
      "[CV 5/5] END .............hidden_layer_sizes=70;, score=0.863 total time= 1.3min\n"
     ]
    },
    {
     "name": "stderr",
     "output_type": "stream",
     "text": [
      "/Users/kiranjyothisheena/opt/anaconda3/lib/python3.9/site-packages/sklearn/neural_network/_multilayer_perceptron.py:692: ConvergenceWarning: Stochastic Optimizer: Maximum iterations (500) reached and the optimization hasn't converged yet.\n",
      "  warnings.warn(\n"
     ]
    }
   ],
   "source": [
    "## Second batch\n",
    "\n",
    "np.random.seed(3)\n",
    "\n",
    "clf_cv_init = MLPClassifier(\n",
    "    ## archiecture hyperparameters ## \n",
    "    #hidden_layer_sizes=20, # scalar -> single hidden layer with 20 units\n",
    "    activation='logistic', # activation function for the hidden layer\n",
    "    alpha=0.001,# regularization parameter,\n",
    "    solver='adam', # stochastic optimizer (default)\n",
    "    learning_rate_init=0.001,# learning rate, controls the step size\n",
    "    batch_size=512, # the number of samples considered in each iteration\n",
    "    max_iter = 500, # number of epochs through the training set,\n",
    "    #early_stopping=True, # monitor validation_loss and stop if there is no improvement\n",
    "    #n_iter_no_change=10, # if validation loss doesn't improve for 10 epochs, terminate optimization\n",
    "    #validation_fraction=0.1, # fraction of the dataset to set as aside as validation data,\n",
    "    random_state=3,\n",
    "    verbose=False\n",
    ")\n",
    "\n",
    "clf_final_4 = GridSearchCV(\n",
    "    estimator = clf_cv_init,\n",
    "    param_grid = { # dictionary containing possible values of each hyperparameter\n",
    "        'hidden_layer_sizes':[30,50,70]\n",
    "    },\n",
    "    scoring='accuracy', # scoring metric - prediction accuracy\n",
    "    refit=True,\n",
    "    cv = KFold(n_splits=5,shuffle=True), # 1 replicate of 5-fold CV\n",
    "    verbose=3\n",
    ").fit(X_train_2,y_train)"
   ]
  },
  {
   "cell_type": "code",
   "execution_count": 25,
   "id": "fd7824cc",
   "metadata": {},
   "outputs": [
    {
     "name": "stdout",
     "output_type": "stream",
     "text": [
      "Best parameters\n",
      "{'hidden_layer_sizes': 70}\n",
      "Best CV accuracy: 0.862\n"
     ]
    }
   ],
   "source": [
    "print('Best parameters')\n",
    "print(clf_final_4.best_params_)\n",
    "\n",
    "print('Best CV accuracy: %.3f'%clf_final_4.best_score_)"
   ]
  },
  {
   "cell_type": "markdown",
   "id": "571f7943",
   "metadata": {},
   "source": [
    "We go ahead with 50 hidden nodes."
   ]
  },
  {
   "cell_type": "code",
   "execution_count": 27,
   "id": "e9c0fea2",
   "metadata": {},
   "outputs": [
    {
     "data": {
      "text/plain": [
       "MLPClassifier(activation='logistic', alpha=0.001, batch_size=512,\n",
       "              hidden_layer_sizes=50, max_iter=1000, random_state=3)"
      ]
     },
     "execution_count": 27,
     "metadata": {},
     "output_type": "execute_result"
    }
   ],
   "source": [
    "## Refitting with parameters\n",
    "\n",
    "X_train_2 = X_train.drop([\"babies\",\"children\",\"arrival_date_year\"],axis=1)\n",
    "X_test_2 = X_test.drop([\"babies\",\"children\",\"arrival_date_year\"],axis=1)\n",
    "\n",
    "np.random.seed(3)\n",
    "\n",
    "clf_mlp_v1 = MLPClassifier(\n",
    "    ## archiecture hyperparameters ## \n",
    "    hidden_layer_sizes=50, # scalar -> single hidden layer with 20 units\n",
    "    activation='logistic', # activation function for the hidden layer\n",
    "    alpha=0.001,# regularization parameter,\n",
    "    solver='adam', # stochastic optimizer (default)\n",
    "    learning_rate_init=0.001,# learning rate, controls the step size\n",
    "    batch_size=512, # the number of samples considered in each iteration\n",
    "    max_iter = 1000, # number of epochs through the training set,\n",
    "    #early_stopping=True, # monitor validation_loss and stop if there is no improvement\n",
    "    #n_iter_no_change=10, # if validation loss doesn't improve for 10 epochs, terminate optimization\n",
    "    #validation_fraction=0.1, # fraction of the dataset to set as aside as validation data,\n",
    "    random_state=3,\n",
    "    verbose=False\n",
    ")\n",
    "\n",
    "clf_mlp_v1.fit(X_train_2,y_train)"
   ]
  },
  {
   "cell_type": "code",
   "execution_count": 28,
   "id": "86f23d51",
   "metadata": {},
   "outputs": [
    {
     "name": "stdout",
     "output_type": "stream",
     "text": [
      "AUC score is  0.8476688354968392\n",
      "Misclass rate is  0.13623989613435525\n",
      "\n",
      "--- EVALUATION METRICS ---:\n",
      "\n",
      "Confusion Matrix:\n",
      "[[13686  1363]\n",
      " [ 1890  6938]]\n",
      "\n",
      "Classification Report:\n",
      "              precision    recall  f1-score   support\n",
      "\n",
      "           0       0.88      0.91      0.89     15049\n",
      "           1       0.84      0.79      0.81      8828\n",
      "\n",
      "    accuracy                           0.86     23877\n",
      "   macro avg       0.86      0.85      0.85     23877\n",
      "weighted avg       0.86      0.86      0.86     23877\n",
      "\n"
     ]
    }
   ],
   "source": [
    "### Testing with test dataset\n",
    "\n",
    "\n",
    "y_pred_class = clf_mlp_v1.predict(X_test_2)\n",
    "\n",
    "## Calculating the roc\n",
    "\n",
    "conf_matrix = confusion_matrix(y_test, y_pred_class)\n",
    "\n",
    "\n",
    "print('AUC score is ',roc_auc_score(y_test,y_pred_class))\n",
    "misclass = (conf_matrix[0][1]+conf_matrix[1][0])/(sum(sum(conf_matrix)))\n",
    "print('Misclass rate is ',misclass)\n",
    "\n",
    "# --- Metrics---\n",
    "\n",
    "print('\\n--- EVALUATION METRICS ---:')\n",
    "print('\\nConfusion Matrix:')\n",
    "print(conf_matrix)\n",
    "\n",
    "print('\\nClassification Report:')\n",
    "\n",
    "print(classification_report(y_test,y_pred_class))\n"
   ]
  },
  {
   "cell_type": "markdown",
   "id": "5fac60ed",
   "metadata": {},
   "source": [
    "The accuracy actually decreased. So the final model we choose is \n",
    "\n",
    "MLPClassifier( <br>\n",
    "    ## architecture hyperparameters ## <br>\n",
    "    hidden_layer_sizes=50, # scalar -> single hidden layer with 20 units <br>\n",
    "    activation='logistic', # activation function for the hidden layer <br>\n",
    "    alpha=0.001,# regularization parameter,<br>\n",
    "    solver='adam', # stochastic optimizer (default)<br>\n",
    "    learning_rate_init=0.001,# learning rate, controls the step size <br>\n",
    "    batch_size=512, # the number of samples considered in each iteration <br>\n",
    "    max_iter = 500, # number of epochs through the training set, <br>\n",
    "    random_state=3, <br>\n",
    "    verbose=False <br>\n",
    ")"
   ]
  }
 ],
 "metadata": {
  "kernelspec": {
   "display_name": "Python 3 (ipykernel)",
   "language": "python",
   "name": "python3"
  },
  "language_info": {
   "codemirror_mode": {
    "name": "ipython",
    "version": 3
   },
   "file_extension": ".py",
   "mimetype": "text/x-python",
   "name": "python",
   "nbconvert_exporter": "python",
   "pygments_lexer": "ipython3",
   "version": "3.9.12"
  }
 },
 "nbformat": 4,
 "nbformat_minor": 5
}
